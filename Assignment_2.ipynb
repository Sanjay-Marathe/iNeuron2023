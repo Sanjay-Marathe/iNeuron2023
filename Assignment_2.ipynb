{
 "cells": [
  {
   "cell_type": "code",
   "execution_count": null,
   "id": "6ba3e7a6",
   "metadata": {},
   "outputs": [],
   "source": [
    "1. What are the two values of the Boolean data type? How do you write them?\n",
    "Ans : Two values are True & False. While writing need to use first letter of word in capital and other letters in small case.\n",
    "\n",
    "2. What are the three different types of Boolean operators?\n",
    "Ans: The three boolean operators are and ,or and not.\n",
    "\n",
    "3. Make a list of each Boolean operators truth tables (i.e. every possible combination of Boolean values for the operator and what it evaluate ).\n",
    "\n",
    "Ans:\n",
    "\n",
    "True and\tTrue\t=\tTrue\n",
    "\n",
    "True and\tFalse\t=\tFalse\n",
    "\n",
    "False and\tFalse\t=\tFalse\n",
    "\n",
    "False and\tTrue\t=\tFalse\n",
    "\n",
    "\n",
    "True\tor\tTrue\t=\tTrue\n",
    "\n",
    "True\tor\tFalse\t=\tTrue\n",
    "\n",
    "False\tor\tFalse\t=\tFalse\n",
    "\n",
    "False\tor\tTrue\t=\tTrue\n",
    "\n",
    "not True = False\n",
    "\n",
    "not False= True"
   ]
  },
  {
   "cell_type": "code",
   "execution_count": 9,
   "id": "4445b881",
   "metadata": {},
   "outputs": [
    {
     "data": {
      "text/plain": [
       "False"
      ]
     },
     "execution_count": 9,
     "metadata": {},
     "output_type": "execute_result"
    }
   ],
   "source": [
    "#4. What are the values of the following expressions?\n",
    "\n",
    "(5>4) & (3==5)"
   ]
  },
  {
   "cell_type": "code",
   "execution_count": 2,
   "id": "54ceae7d",
   "metadata": {},
   "outputs": [
    {
     "data": {
      "text/plain": [
       "False"
      ]
     },
     "execution_count": 2,
     "metadata": {},
     "output_type": "execute_result"
    }
   ],
   "source": [
    "not (5>4)"
   ]
  },
  {
   "cell_type": "code",
   "execution_count": 3,
   "id": "43a692d6",
   "metadata": {},
   "outputs": [
    {
     "data": {
      "text/plain": [
       "True"
      ]
     },
     "execution_count": 3,
     "metadata": {},
     "output_type": "execute_result"
    }
   ],
   "source": [
    "(5>4) or (3==5)"
   ]
  },
  {
   "cell_type": "code",
   "execution_count": 4,
   "id": "0d0b7459",
   "metadata": {},
   "outputs": [
    {
     "data": {
      "text/plain": [
       "False"
      ]
     },
     "execution_count": 4,
     "metadata": {},
     "output_type": "execute_result"
    }
   ],
   "source": [
    "not (5>4) or (3==5)"
   ]
  },
  {
   "cell_type": "markdown",
   "id": "e4bd8ed2",
   "metadata": {},
   "source": [
    "5. What are the six comparison operators?\n",
    "\n",
    "Ans <,>,<=,>=,!=,==\n",
    "\n",
    "6. How do you tell the difference between the equal to and assignment operators?Describe a condition and when you would use one.\n",
    "\n",
    "== is equal operator that compares two values and result in boolean data type. while = is assignment operator which assign value to varibale and variable store value in memory.\n",
    "\n",
    "7. Identify the three blocks in this code:\n",
    "\n",
    "spam = 0\n",
    "if spam == 10:\n",
    "  print('eggs')\n",
    "  if spam >5:\n",
    "    print('bacon')\n",
    "else:\n",
    "  print('ham')\n",
    "print('spam')\n",
    "print('spam')\n",
    "\n",
    "Ans: \n",
    "\n",
    "Three blocks are below if \n",
    "print('eggs')\n",
    "  if spam >5:\n",
    "    print('bacon')\n",
    "\n",
    "and print ('ham')"
   ]
  },
  {
   "cell_type": "code",
   "execution_count": 5,
   "id": "36ca141a",
   "metadata": {},
   "outputs": [
    {
     "name": "stdout",
     "output_type": "stream",
     "text": [
      "Enter value of spam in integer \n",
      "4\n",
      "Greetings!\n"
     ]
    }
   ],
   "source": [
    "print(\"Enter value of spam in integer \")\n",
    "spam=(input())\n",
    "spam=int(spam)\n",
    "if spam == 1:\n",
    "  print(\"Hello\")\n",
    "elif spam== 2:\n",
    "      print(\"Howdy\")\n",
    "else:\n",
    "  print(\"Greetings!\")"
   ]
  },
  {
   "cell_type": "markdown",
   "id": "c5482f3b",
   "metadata": {},
   "source": [
    "9.If your programme is stuck in an endless loop, what keys you’ll press?\n",
    "Ans : Ctrl+ C"
   ]
  },
  {
   "cell_type": "markdown",
   "id": "34993bf8",
   "metadata": {},
   "source": [
    "10. How can you tell the difference between break and continue?\n",
    "\n",
    "Ans: The break statement move the execution outside and just after a loop. The continue statement will move the execution to the start of the loop\n",
    "\n",
    "11. In a for loop, what is the difference between range(10), range(0, 10), and range(0, 10, 1)?\n",
    "\n",
    "Ans: All do same thing , range(10) call values from 0 to 9(till one value before upper bound),range(0,10) tells to start from 0 andrange(0,10,1) tells loop to do increase variable value by 1 in each interation."
   ]
  },
  {
   "cell_type": "code",
   "execution_count": 7,
   "id": "c70c6598",
   "metadata": {},
   "outputs": [
    {
     "name": "stdout",
     "output_type": "stream",
     "text": [
      "1\n",
      "2\n",
      "3\n",
      "4\n",
      "5\n",
      "6\n",
      "7\n",
      "8\n",
      "9\n",
      "10\n"
     ]
    }
   ],
   "source": [
    "#12. Write a short program that prints the numbers 1 to 10 using a for loop. Then write an equivalent program that prints the numbers 1 to 10 using a while loop.\n",
    "\n",
    "for i in range(0,10):\n",
    "    i+=1\n",
    "    print(i)\n",
    "\n",
    "\n"
   ]
  },
  {
   "cell_type": "code",
   "execution_count": 8,
   "id": "1b9f6287",
   "metadata": {},
   "outputs": [
    {
     "name": "stdout",
     "output_type": "stream",
     "text": [
      "1\n",
      "2\n",
      "3\n",
      "4\n",
      "5\n",
      "6\n",
      "7\n",
      "8\n",
      "9\n",
      "10\n"
     ]
    }
   ],
   "source": [
    "i=0\n",
    "while i<10:\n",
    "    i+=1\n",
    "    print(i)"
   ]
  },
  {
   "cell_type": "markdown",
   "id": "7164f0ed",
   "metadata": {},
   "source": [
    "13. If you had a function named bacon() inside a module named spam, how would you call it after\n",
    "importing spam?\n",
    "\n",
    "Ans: spam.bacon()"
   ]
  }
 ],
 "metadata": {
  "kernelspec": {
   "display_name": "Python 3 (ipykernel)",
   "language": "python",
   "name": "python3"
  },
  "language_info": {
   "codemirror_mode": {
    "name": "ipython",
    "version": 3
   },
   "file_extension": ".py",
   "mimetype": "text/x-python",
   "name": "python",
   "nbconvert_exporter": "python",
   "pygments_lexer": "ipython3",
   "version": "3.10.9"
  }
 },
 "nbformat": 4,
 "nbformat_minor": 5
}
