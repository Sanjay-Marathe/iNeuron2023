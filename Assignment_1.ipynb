{
 "cells": [
  {
   "cell_type": "code",
   "execution_count": null,
   "metadata": {
    "id": "LKKC9Ay4Fr07"
   },
   "outputs": [],
   "source": [
    "1. In the below elements which of them are values or an expression? eg:- values can be integer or string and expressions will be mathematical operators.\n",
    "*        \t\t\t\tThis is expression\n",
    "'hello'\t\t\t\t  This is  string     \n",
    "-87.8 \t\t\t\tThis is integer\n",
    "-    \t\t\t\tThis is expression\n",
    "/ \t\t\t\t    This is expression\n",
    "+\t \t\t\t    This is expression\n",
    "6 \t\t\t\t    This is integer\n",
    "\n",
    "2. What is the difference between string and variable?\n",
    "Ans: \tString : It is sequence of character. It is used to represent text.To create string we can write character between single quotes,double quotes and also triple quotes. Example ‘sanjay’,  “Hello” “””123”””.\n",
    "Variable: Variable is identifier used to store values in during program. We can change variable during program execution. \n",
    "\n",
    "3. Describe three different data types.\n",
    "1. String: This type of  data type is used to represent text or sequence of character.\n",
    "2. Numeric : This type represent data which is of numeric type example int,float,complex.\n",
    "3. Boolean: This type of data type have two inbuilt values True & False.\n",
    "\n",
    "4. What is an expression made up of? What do all the expressions do?\n",
    "Ans: Expression is a combination of operators, variables and constant. An expression may consist of one or more operands. Like a+, a+b . Expression can do mathematical or logical operation produce value.\n",
    "\n",
    "\n",
    "5. This assignment statements, like spam = 10. What is the difference between an expression and a statement?\n",
    "Ans: Expression consist of variables, operators, constant and function which evaluates to a single value.\n",
    "Statement : Statement are like sentence they alone can execute. No further operation required on it. \n",
    "Here Spam=10 assign value 10 to spam variable.\n",
    "\n",
    "6. After running the following code, what does the variable bacon contain?\n",
    "bacon = 22\n",
    "bacon + 1\n",
    "Ans: It contain value 22\n",
    "\n",
    "7. What should the values of the following two terms be?\n",
    "'spam' + 'spamspam'\n",
    "Ans ‘spamspamspam’\n",
    "'spam' * 3\n",
    "Ans: ‘spamspamspam’\n",
    "\n",
    "8. Why is eggs a valid variable name while 100 is invalid?\n",
    "Ans: eggs is valid variable name because it not comes in already listed keyword of python language while 100 is integer data type value which has specific meaning in python language.We not use reserved keyword in our declaration of variable name.\n",
    "\n",
    "9. What three functions can be used to get the integer, floating-point number, or string version of a value?\n",
    "Ans: These functions are int (),float (), str () used to get  integer, floating- point or string version of a value pass to it.\n",
    "\n",
    "10. Why does this expression cause an error? How can you fix it?\n",
    "'I have eaten ' + 99 + ' burritos.'\n",
    "Ans: Error is due to data type first and last value is of string based datatype and middle is integer type concatenate not possible of this. If we write ‘99’ in place 99 then we can concatenate these. String based data type we can concatenate.\n"
   ]
  }
 ],
 "metadata": {
  "colab": {
   "collapsed_sections": [],
   "name": "Assignment 1",
   "provenance": []
  },
  "kernelspec": {
   "display_name": "Python 3 (ipykernel)",
   "language": "python",
   "name": "python3"
  },
  "language_info": {
   "codemirror_mode": {
    "name": "ipython",
    "version": 3
   },
   "file_extension": ".py",
   "mimetype": "text/x-python",
   "name": "python",
   "nbconvert_exporter": "python",
   "pygments_lexer": "ipython3",
   "version": "3.10.9"
  }
 },
 "nbformat": 4,
 "nbformat_minor": 1
}
