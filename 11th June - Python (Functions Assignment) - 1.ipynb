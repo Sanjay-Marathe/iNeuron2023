{
  "nbformat": 4,
  "nbformat_minor": 0,
  "metadata": {
    "colab": {
      "provenance": [],
      "authorship_tag": "ABX9TyN9AMKBuZVn4vLd1eJ21I5a"
    },
    "kernelspec": {
      "name": "python3",
      "display_name": "Python 3"
    },
    "language_info": {
      "name": "python"
    }
  },
  "cells": [
    {
      "cell_type": "markdown",
      "source": [
        "# 1. What is a lambda function in Python, and how does it differ from a regular function?\n",
        "\n",
        "Answer >\n",
        ">Lambda function are small, one-line functions in Python that can be defined without a name.\n",
        "\n",
        ">They are created using the lambda keyword and are typically used for short, simple operations where a full function definition might be unnecessary.\n",
        "\n",
        "* Lambda functions are concise, anonymous functions used for short operations,\n",
        "\n",
        "* while regular functions are named, more flexible functions used for more complex tasks."
      ],
      "metadata": {
        "id": "X0rPKB6VWYbi"
      }
    },
    {
      "cell_type": "markdown",
      "source": [
        "# 2. Can a lambda function in Python have multiple arguments? If yes, how can you define and use them?\n",
        "\n",
        "Answer >\n",
        "\n",
        ">Yes, a lambda function in Python can have multiple arguments. It can take any number of parameters, separated by commas, just like a regular function."
      ],
      "metadata": {
        "id": "OY8xGwEtYKWp"
      }
    },
    {
      "cell_type": "code",
      "execution_count": null,
      "metadata": {
        "id": "T_ZUMUX-U6Ci",
        "colab": {
          "base_uri": "https://localhost:8080/"
        },
        "outputId": "2554282c-20c8-4507-b08c-ef2b79d205db"
      },
      "outputs": [
        {
          "output_type": "stream",
          "name": "stdout",
          "text": [
            "8\n"
          ]
        }
      ],
      "source": [
        "add = lambda x, y: x + y\n",
        "result = add(3, 5)\n",
        "print(result)  # Output: 8\n"
      ]
    },
    {
      "cell_type": "markdown",
      "source": [
        "# 3. How are lambda functions typically used in Python? Provide an example use case.\n",
        "\n",
        "Answer >\n",
        "\n",
        ">Lambda functions are typically used in Python for one-time, short-lived operations where a small function is required, and a full function definition is not necessary.\n"
      ],
      "metadata": {
        "id": "UDFi3glwY3Xv"
      }
    },
    {
      "cell_type": "code",
      "source": [
        "seriz = [1, 2, 3, 4, 5]\n",
        "\n",
        "# Using a lambda function\n",
        "squared_list = map(lambda x: x ** 2, seriz)\n",
        "\n",
        "print(list(squared_list))   # Output: [1, 4, 9, 16, 25]\n"
      ],
      "metadata": {
        "colab": {
          "base_uri": "https://localhost:8080/"
        },
        "id": "8p7h3H6HYk-K",
        "outputId": "589f411c-5758-4ea1-b540-3b48a630b3ed"
      },
      "execution_count": null,
      "outputs": [
        {
          "output_type": "stream",
          "name": "stdout",
          "text": [
            "[1, 4, 9, 16, 25]\n"
          ]
        }
      ]
    },
    {
      "cell_type": "markdown",
      "source": [
        ">The map() function is a built-in function in Python, and it is used to apply a given function to all items of an iterable (e.g., list, tuple, etc.). It returns an iterator that produces the results of applying the function to each element of the iterable."
      ],
      "metadata": {
        "id": "BrShb4uwadI1"
      }
    },
    {
      "cell_type": "markdown",
      "source": [
        "# 4. What are the advantages and limitations of lambda functions compared to regular functions in Python?\n",
        "\n",
        "Answer >\n",
        "\n",
        ">Advantages of Lambda Functions :\n",
        "\n",
        "* Concise syntax for simple operations\n",
        "* Anonymous, no need to define a function name\n",
        "* Useful in functional programming paradigms\n",
        "* Improves code readability for straightforward operations\n",
        "\n",
        ">Limitations of Lambda Functions:\n",
        "\n",
        "* Can only contain a single expression\n",
        "* Cannot have statements like if, while, or for\n",
        "* No docstrings for documentation\n",
        "* Limited scope, not suitable for complex logic\n",
        "* Debugging may be less informative due to anonymity\n",
        "\n"
      ],
      "metadata": {
        "id": "-0Y1dBSCaoK8"
      }
    },
    {
      "cell_type": "markdown",
      "source": [
        "# 5. Are lambda functions in Python able to access variables defined outside of their own scope? Explain with an example.\n",
        "\n",
        "Answer >\n",
        "\n",
        ">Yes, lambda functions in Python can access variables defined outside of their own scope.\n",
        "\n",
        ">Lambda functions have access to variables from the enclosing scope where they are created.\n",
        "\n",
        ">This feature is known as \"lexical scoping\" or \"closure,\" which allows lambda functions to \"capture\" and use variables from their surrounding context."
      ],
      "metadata": {
        "id": "3j5PyPCbbs6g"
      }
    },
    {
      "cell_type": "code",
      "source": [
        "def func():\n",
        "    x = 10\n",
        "\n",
        "    lambda_fun = lambda y: x + y\n",
        "    return lambda_fun\n",
        "\n",
        "my_lambda = func()\n",
        "\n",
        "result = my_lambda(5)\n",
        "\n",
        "print(result) # o/p : 15"
      ],
      "metadata": {
        "colab": {
          "base_uri": "https://localhost:8080/"
        },
        "id": "q8e1WZ9Ugg6C",
        "outputId": "9fd991c1-f2c1-4019-bf68-b269212fedb9"
      },
      "execution_count": null,
      "outputs": [
        {
          "output_type": "stream",
          "name": "stdout",
          "text": [
            "15\n"
          ]
        }
      ]
    },
    {
      "cell_type": "markdown",
      "source": [
        "# 6. Write a lambda function to calculate the square of a given number.\n",
        "\n",
        "Answer >\n"
      ],
      "metadata": {
        "id": "46vt_XrMie8S"
      }
    },
    {
      "cell_type": "code",
      "source": [
        "square = lambda x: x**2\n",
        "\n",
        "result = square(5)\n",
        "print(result)  # Output: 25 (square of 5)"
      ],
      "metadata": {
        "colab": {
          "base_uri": "https://localhost:8080/"
        },
        "id": "_X9hcUMihR3v",
        "outputId": "2f0aa3ee-b84d-4d83-d487-efb927e7aa16"
      },
      "execution_count": null,
      "outputs": [
        {
          "output_type": "stream",
          "name": "stdout",
          "text": [
            "25\n"
          ]
        }
      ]
    },
    {
      "cell_type": "markdown",
      "source": [
        "# 7. Create a lambda function to find the maximum value in a list of integers.\n",
        "\n",
        "Answer >\n",
        "\n"
      ],
      "metadata": {
        "id": "9MDNq4ssizSd"
      }
    },
    {
      "cell_type": "code",
      "source": [
        "mlst = [10, 5, 25, 30, 15]\n",
        "\n",
        "find_max = lambda lst: max(lst)\n",
        "\n",
        "result = find_max(mlst)\n",
        "\n",
        "print(result)  # Output: 30 (maximum value in the list)"
      ],
      "metadata": {
        "colab": {
          "base_uri": "https://localhost:8080/"
        },
        "id": "JbEq1p9QixN-",
        "outputId": "fca8493f-5799-43b0-a072-75cea16a1071"
      },
      "execution_count": null,
      "outputs": [
        {
          "output_type": "stream",
          "name": "stdout",
          "text": [
            "30\n"
          ]
        }
      ]
    },
    {
      "cell_type": "markdown",
      "source": [
        "# 8. Implement a lambda function to filter out all the even numbers from a list of integers.\n",
        "\n",
        "Answer >\n"
      ],
      "metadata": {
        "id": "vscGaQhcjW06"
      }
    },
    {
      "cell_type": "code",
      "source": [
        "list2 = [1, 2, 3, 4, 5, 6, 7, 8, 9, 10]\n",
        "\n",
        "filter_even = list(filter(lambda x: x % 2 == 0,list2))\n",
        "\n",
        "result = filter_even\n",
        "print(result)  # Output: [2, 4, 6, 8, 10] (even numbers in the list)"
      ],
      "metadata": {
        "colab": {
          "base_uri": "https://localhost:8080/"
        },
        "id": "vki0LCCwjRbU",
        "outputId": "7a9056af-2784-4fc1-a344-96005308f43c"
      },
      "execution_count": null,
      "outputs": [
        {
          "output_type": "stream",
          "name": "stdout",
          "text": [
            "[2, 4, 6, 8, 10]\n"
          ]
        }
      ]
    },
    {
      "cell_type": "markdown",
      "source": [
        "# 9. Write a lambda function to sort a list of strings in ascending order based on the length of each string.\n",
        "\n",
        "Answer >\n",
        "\n"
      ],
      "metadata": {
        "id": "lgwXP5w5rC46"
      }
    },
    {
      "cell_type": "code",
      "source": [
        "my_list = ['apple', 'banana', 'orange', 'kiwi', 'grape']\n",
        "\n",
        "# my_list=sorted( my_list, key=lambda i:i)\n",
        "\n",
        "sort_list = sorted(my_list,key=lambda x: len(x))\n",
        "\n",
        "print(sort_list)  # Output: ['kiwi', 'grape', 'apple', 'orange', 'banana']"
      ],
      "metadata": {
        "colab": {
          "base_uri": "https://localhost:8080/"
        },
        "id": "81mAWB6moUwr",
        "outputId": "ffd99fbf-a749-4e84-9c97-0c9dfed53b36"
      },
      "execution_count": null,
      "outputs": [
        {
          "output_type": "stream",
          "name": "stdout",
          "text": [
            "['kiwi', 'apple', 'grape', 'banana', 'orange']\n"
          ]
        }
      ]
    },
    {
      "cell_type": "markdown",
      "source": [
        "# 10. Create a lambda function that takes two lists as input and returns a new list containing the common elements between the two lists.\n",
        "\n",
        "Answer >\n",
        "\n"
      ],
      "metadata": {
        "id": "f41Xa0-asNHX"
      }
    },
    {
      "cell_type": "code",
      "source": [
        "list1 = [1, 2, 3, 4, 5]\n",
        "list2 = [3, 4, 5, 6, 7]\n",
        "\n",
        "find = lambda list1, list2: list(filter(lambda x: x in list2, list1))\n",
        "\n",
        "\n",
        "result = find(list1, list2)\n",
        "print(result) # o/p : [3, 4, 5]"
      ],
      "metadata": {
        "colab": {
          "base_uri": "https://localhost:8080/"
        },
        "id": "TO9M2x3C10Bd",
        "outputId": "7869f16a-ca32-4e61-c4e8-7aaa75fcfe84"
      },
      "execution_count": null,
      "outputs": [
        {
          "output_type": "stream",
          "name": "stdout",
          "text": [
            "[3, 4, 5]\n"
          ]
        }
      ]
    },
    {
      "cell_type": "markdown",
      "source": [
        "# 11. Write a recursive function to calculate the factorial of a given positive integer.\n",
        "\n",
        "Answer >\n",
        "\n"
      ],
      "metadata": {
        "id": "YXoHOF5YscxH"
      }
    },
    {
      "cell_type": "code",
      "source": [
        "def fac(n):\n",
        "  if n==0:\n",
        "    return 1\n",
        "  else:\n",
        "    return n*fac(n-1)\n",
        "print(fac(0))   # Output : 1\n",
        "print(fac(5))   # Output : 120 (5! = 5 * 4 * 3 * 2 * 1 = 120)\n",
        "print(fac(4))   # Output : 24 (4! = 4 * 3 * 2 * 1 = 24)"
      ],
      "metadata": {
        "id": "k8TMLX46rpAj",
        "colab": {
          "base_uri": "https://localhost:8080/"
        },
        "outputId": "53b87b4e-90e0-4e76-bf61-e5aba60b7c3d"
      },
      "execution_count": null,
      "outputs": [
        {
          "output_type": "stream",
          "name": "stdout",
          "text": [
            "1\n",
            "120\n",
            "24\n"
          ]
        }
      ]
    },
    {
      "cell_type": "markdown",
      "source": [
        "# 12. Implement a recursive function to compute the nth Fibonacci number.\n",
        "\n",
        "Answer >\n",
        "\n"
      ],
      "metadata": {
        "id": "7YjV8np93UvG"
      }
    },
    {
      "cell_type": "code",
      "source": [
        "def fibonacci(n):\n",
        "    if n <= 0:\n",
        "        return \"Invalid input. n must be a positive integer.\"\n",
        "    elif n == 1:\n",
        "        return 0\n",
        "    elif n == 2:\n",
        "        return 1\n",
        "    else:\n",
        "        return fibonacci(n - 1) + fibonacci(n - 2)\n",
        "\n",
        "print(fibonacci(1))   # Output: 0 (The 1st Fibonacci number is 0)\n",
        "print(fibonacci(5))   # Output: 3 (The 5th Fibonacci number is 3: 0, 1, 1, 2, 3)\n",
        "print(fibonacci(10))  #  Output : 34"
      ],
      "metadata": {
        "colab": {
          "base_uri": "https://localhost:8080/"
        },
        "id": "M0784pKN22Xf",
        "outputId": "f6e5c1e4-26a1-4336-9f6f-fb02be8a7677"
      },
      "execution_count": null,
      "outputs": [
        {
          "output_type": "stream",
          "name": "stdout",
          "text": [
            "0\n",
            "3\n",
            "34\n"
          ]
        }
      ]
    },
    {
      "cell_type": "markdown",
      "source": [
        "# 13. Create a recursive function to find the sum of all the elements in a given list.\n",
        "\n",
        "Answer >\n"
      ],
      "metadata": {
        "id": "0AECsTOm48pF"
      }
    },
    {
      "cell_type": "code",
      "source": [
        "def list_sum(lst):\n",
        "    if not lst:\n",
        "        return 0\n",
        "    else:\n",
        "        return lst[0] + list_sum(lst[1:])\n",
        "\n",
        "print(list_sum([1, 2, 3, 4, 5]))     # Output: 15 (sum of elements: 1 + 2 + 3 + 4 + 5 = 15)\n",
        "print(list_sum([-1, -2, -3, -4]))   # Output: -10 (sum of elements: -1 + -2 + -3 + -4 = -10)\n",
        "print(list_sum([10]))               # Output: 10 (sum of elements: 10)\n",
        "print(list_sum([]))                 # Output: 0 (empty list, sum is 0)\n"
      ],
      "metadata": {
        "id": "lrHHSqRC4vB3"
      },
      "execution_count": null,
      "outputs": []
    },
    {
      "cell_type": "markdown",
      "source": [
        "# 14. Write a recursive function to determine whether a given string is a palindrome.\n",
        "\n",
        "Answer >\n"
      ],
      "metadata": {
        "id": "GoyQ-sL15Tq-"
      }
    },
    {
      "cell_type": "code",
      "source": [
        "def is_palindrome(s):\n",
        "# Base case: an empty string or a single character is a palindrome\n",
        "    if len(s) <= 1:\n",
        "        return True\n",
        "# Check if the first and last characters are the same\n",
        "    elif s[0] != s[-1]:\n",
        "        return False\n",
        "# Recursive case: check the substring without the first and last characters\n",
        "    else:\n",
        "        return is_palindrome(s[1:-1])\n",
        "\n",
        "\n",
        "print(is_palindrome(\"radar\"))      # Output: True (palindrome)\n",
        "print(is_palindrome(\"level\"))      # Output: True (palindrome)\n",
        "print(is_palindrome(\"hello\"))      # Output: False (not a palindrome)\n",
        "print(is_palindrome(\"racecar\"))    # Output: True (palindrome)\n",
        "print(is_palindrome(\"python\"))     # Output: False (not a palindrome)\n"
      ],
      "metadata": {
        "colab": {
          "base_uri": "https://localhost:8080/"
        },
        "id": "Cm1S-6s65hoC",
        "outputId": "689d5fbc-56f5-43c3-e4ab-45bea46229d6"
      },
      "execution_count": null,
      "outputs": [
        {
          "output_type": "stream",
          "name": "stdout",
          "text": [
            "True\n",
            "True\n",
            "False\n",
            "True\n",
            "False\n"
          ]
        }
      ]
    },
    {
      "cell_type": "markdown",
      "source": [
        "# 15. Implement a recursive function to find the greatest common divisor (GCD) of two positive integers.\n",
        "\n",
        "Answer >"
      ],
      "metadata": {
        "id": "FcFZoMrI50cR"
      }
    },
    {
      "cell_type": "code",
      "source": [
        "def gcd(a, b):\n",
        "    if b == 0:\n",
        "        return a\n",
        "    else:\n",
        "        return gcd(b, a % b)\n",
        "\n",
        "print(gcd(24, 36))   # Output: 12 (GCD of 24 and 36 is 12)\n",
        "print(gcd(10, 15))   # Output: 5 (GCD of 10 and 15 is 5)\n",
        "print(gcd(42, 56))   # Output: 14 (GCD of 42 and 56 is 14)\n",
        "print(gcd(17, 31))   # Output: 1 (GCD of 17 and 31 is 1)\n"
      ],
      "metadata": {
        "colab": {
          "base_uri": "https://localhost:8080/"
        },
        "id": "41aTihVt6E6k",
        "outputId": "08659aac-5912-4b8f-b304-337e621d14af"
      },
      "execution_count": null,
      "outputs": [
        {
          "output_type": "stream",
          "name": "stdout",
          "text": [
            "12\n",
            "5\n",
            "14\n",
            "1\n"
          ]
        }
      ]
    }
  ]
}