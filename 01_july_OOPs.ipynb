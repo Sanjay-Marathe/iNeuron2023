{
  "nbformat": 4,
  "nbformat_minor": 0,
  "metadata": {
    "colab": {
      "provenance": []
    },
    "kernelspec": {
      "name": "python3",
      "display_name": "Python 3"
    },
    "language_info": {
      "name": "python"
    }
  },
  "cells": [
    {
      "cell_type": "markdown",
      "source": [
        "# 1. What is the primary goal of Object-Oriented Programming (OOP)?\n",
        "\n",
        "Answer >\n",
        "\n",
        ">The primary goal of Object-Oriented Programming (OOP) is to organize and model data and behavior in a way that closely resembles real-world objects and their interactions. It is a programming paradigm that revolves around the concept of \"objects,\" which are instances of classes representing entities or things in the real world.\n"
      ],
      "metadata": {
        "id": "9a6yEy74ughm"
      }
    },
    {
      "cell_type": "markdown",
      "source": [
        "# 2. What is an object in Python?\n",
        "\n",
        "Answer >\n",
        "\n",
        ">An object is a fundamental concept representing a real-world entity or data structure within the program.\n",
        "\n",
        ">An object is an instance of a class, and a class is essentially a blueprint or template that defines the properties (attributes) and behaviors (methods) that the objects of that class will have.\n",
        "\n"
      ],
      "metadata": {
        "id": "4a9Mh7JrvA2Q"
      }
    },
    {
      "cell_type": "markdown",
      "source": [
        "# 3. What is a class in Python?\n",
        "\n",
        "Answer>\n",
        "\n",
        ">Classes in Python enable you to create reusable and structured code, making it easier to manage complex programs.\n",
        "\n",
        ">They form the basis for object-oriented programming (OOP) in Python and are essential for creating custom data types and organizing code efficiently.\n"
      ],
      "metadata": {
        "id": "yAXe8KTsvHqW"
      }
    },
    {
      "cell_type": "markdown",
      "source": [
        "# 4. What are attributes and methods in a class?\n",
        "\n",
        "Answer >\n",
        "\n",
        ">Attributes :\n",
        ">>Attributes are variables that store data and represent the properties of objects. They define the state of an object.\n",
        "\n",
        ">Methods :\n",
        ">>Methods are functions that define the behavior of objects. They represent actions or operations that can be performed on an object's data (attributes)."
      ],
      "metadata": {
        "id": "P06JL0i_vLJ4"
      }
    },
    {
      "cell_type": "markdown",
      "source": [
        "# 5. What is the difference between class variables and instance variables in Python?\n",
        "\n",
        "Answer >\n",
        "\n",
        ">class variables are shared among all instances of a class and represent common attributes,\n",
        "\n",
        ">while instance variables are specific to each instance and represent individual attributes."
      ],
      "metadata": {
        "id": "g9HzAXS5vbw1"
      }
    },
    {
      "cell_type": "markdown",
      "source": [
        "# 6. What is the purpose of the self parameter in Python class methods?\n",
        "\n",
        "Answer >\n",
        "\n",
        ">The self parameter in Python class methods is essential for accessing instance-specific data, calling other methods, and maintaining the object's state throughout the class.\n"
      ],
      "metadata": {
        "id": "XPx0Nz-cvfBG"
      }
    },
    {
      "cell_type": "markdown",
      "source": [
        "# 7. For a library management system, you have to design the \"Book\" class with OOP principles in mind. The “Book” class will have following attributes:\n",
        "a. title: Represents the title of the book.\n",
        "\n",
        "b. author: Represents the author(s) of the book.\n",
        "\n",
        "c. isbn: Represents the ISBN (International Standard Book Number) of the book.\n",
        "\n",
        "d. publication_year: Represents the year of publication of the book.\n",
        "\n",
        "e. available_copies: Represents the number of copies available for checkout.\n",
        "\n",
        ">The class will also include the following methods:\n",
        "\n",
        "a. check_out(self): Decrements the available copies by one if there are copies\n",
        "available for checkout.\n",
        "\n",
        "b. return_book(self): Increments the available copies by one when a book is\n",
        "returned.\n",
        "\n",
        "c. display_book_info(self): Displays the information about the book, including its\n",
        "attributes and the number of available copies."
      ],
      "metadata": {
        "id": "f08kh9NivqTd"
      }
    },
    {
      "cell_type": "code",
      "source": [
        "# Creation of Book Class\n",
        "class Book:\n",
        "  def __init__(self,title,author,isbn,publication_year,available_copies):\n",
        "    self.title=title\n",
        "    self.author=author\n",
        "    self.isbn=isbn\n",
        "    self.publication_year=publication_year\n",
        "    self.available_copies=available_copies\n",
        "\n",
        "  def check_out(self):\n",
        "    if self.available_copies>0:\n",
        "      self.available_copies=self.available_copies-1\n",
        "      return (f'Now remaining copies are {self.available_copies}')\n",
        "\n",
        "    else:\n",
        "      print(f\"Book which you are looking outof stock\")\n",
        "\n",
        "  def return_book(self):\n",
        "    self.available_copies=self.available_copies+1\n",
        "\n",
        "  def display_book_info(self):\n",
        "    return print(f\" Title:{self.title}\\n Author:{self.author} \\n ISBN:{self.isbn} \\n Publication year:{self.publication_year}\\n No.Copies Available:{self.available_copies}\")\n",
        "\n",
        "book=Book(\"Heart\",\"R. Stuwart\",1234567890987,2003,45)\n",
        "book.display_book_info()\n"
      ],
      "metadata": {
        "id": "eDqKSb4ODsHK",
        "colab": {
          "base_uri": "https://localhost:8080/"
        },
        "outputId": "efedc741-af35-4ad8-ad14-e0502d178dfd"
      },
      "execution_count": null,
      "outputs": [
        {
          "output_type": "stream",
          "name": "stdout",
          "text": [
            " Title:Heart\n",
            " Author:R. Stuwart \n",
            " ISBN:1234567890987 \n",
            " Publication year:2003\n",
            " No.Copies Available:45\n"
          ]
        }
      ]
    },
    {
      "cell_type": "markdown",
      "source": [
        "# 8. For a ticket booking system, you have to design the \"Ticket\" class with OOP principles in mind. The “Ticket” class should have the following attributes:\n",
        "a. ticket_id: Represents the unique identifier for the ticket.\n",
        "\n",
        "b. event_name: Represents the name of the event.\n",
        "\n",
        "c. event_date: Represents the date of the event.\n",
        "\n",
        "d. venue: Represents the venue of the event.\n",
        "\n",
        "e. seat_number: Represents the seat number associated with the ticket.\n",
        "\n",
        "f. price: Represents the price of the ticket.\n",
        "\n",
        "g. is_reserved: Represents the reservation status of the ticket.\n",
        "\n",
        ">The class also includes the following methods:\n",
        "\n",
        "a. reserve_ticket(self): Marks the ticket as reserved if it is not already reserved.\n",
        "\n",
        "b. cancel_reservation(self): Cancels the reservation of the ticket if it is already\n",
        "reserved.\n",
        "\n",
        "c. display_ticket_info(self): Displays the information about the ticket, including its\n",
        "attributes and reservation status."
      ],
      "metadata": {
        "id": "F3OJL_Xhv87m"
      }
    },
    {
      "cell_type": "code",
      "execution_count": null,
      "metadata": {
        "id": "NFbLcvP_sTJ0",
        "colab": {
          "base_uri": "https://localhost:8080/",
          "height": 35
        },
        "outputId": "d7549fc5-d3f5-4d54-cb7f-cb48406e421b"
      },
      "outputs": [
        {
          "output_type": "execute_result",
          "data": {
            "text/plain": [
              "'Your ticket for event Consert on date 12/1/2023 at Mumbai with seat No : 29 is cancelled your ticket booking amount is Rs.2400'"
            ],
            "application/vnd.google.colaboratory.intrinsic+json": {
              "type": "string"
            }
          },
          "metadata": {},
          "execution_count": 14
        }
      ],
      "source": [
        "class Ticket:\n",
        "  def __init__(self,ticket_id,event_name,event_date,venue,seat_number,is_reserved,price):\n",
        "    self.ticket_id=ticket_id\n",
        "    self.event_name=event_name\n",
        "    self.event_date=event_date\n",
        "    self.venue=venue\n",
        "    self.seat_number=seat_number\n",
        "    self.is_reserved=is_reserved\n",
        "    self.price=price\n",
        "\n",
        "  def reserve_ticket(self):\n",
        "    if self.is_reserved=='confirmed':\n",
        "      return (f\"Your ticket status {self.is_reserved}\")\n",
        "    else:\n",
        "      self.is_reserved=\"confirmed\"\n",
        "      return (f\"Your ticket now booked and {self.is_reserved}\")\n",
        "\n",
        "  def cancel_reservation(self):\n",
        "    if self.is_reserved=='cancelled':\n",
        "      return (f\"Your ticket status already {self.is_reserved}\")\n",
        "    else:\n",
        "      self.is_reserved=\"cancelled\"\n",
        "      return (f\"Your ticket now been {self.is_reserved}\")\n",
        "\n",
        "  def display_ticket_info(self):\n",
        "    return (f\"Your ticket for event {self.event_name} on date {self.event_date} at {self.venue} with seat No : {self.seat_number} is {self.is_reserved} your ticket booking amount is Rs.{self.price}\")\n",
        "\n",
        "ticket=Ticket(1001,\"Consert\",\"12/1/2023\",\"Mumbai\",29,\"confirmed\",2400)\n",
        "\n",
        "\n",
        "ticket.display_ticket_info()\n"
      ]
    },
    {
      "cell_type": "markdown",
      "source": [
        "# 9. You are creating a shopping cart for an e-commerce website. Using OOP to model the \"ShoppingCart\" functionality the class should contain following attributes and methods:\n",
        "* items: Represents the list of items in the shopping cart.\n",
        "\n",
        "The class also includes the following methods:\n",
        "\n",
        "a. add_item(self, item): Adds an item to the shopping cart by appending it to the\n",
        "list of items.\n",
        "\n",
        "b. remove_item(self, item): Removes an item from the shopping cart if it exists in\n",
        "the list.\n",
        "\n",
        "c. view_cart(self): Displays the items currently present in the shopping cart.\n",
        "\n",
        "d. clear_cart(self): Clears all items from the shopping cart by reassigning an\n",
        "empty list to the items attribute.\n",
        "\n",
        "\n"
      ],
      "metadata": {
        "id": "w9JFG3FIDyUL"
      }
    },
    {
      "cell_type": "code",
      "source": [
        "class Shopping_cart():\n",
        "    def __init__(self):\n",
        "        self.item = []\n",
        "    def add_item (self,*item):\n",
        "        for i in item:\n",
        "            self.item.append(i.lower())\n",
        "    def remove_item(self,*item):\n",
        "        for i in item:\n",
        "            if i.lower() in self.item:\n",
        "                self.item.remove(i.lower())\n",
        "        else :\n",
        "            print (\"item does not exist\")\n",
        "    def view_cart (self):\n",
        "         print (self.item)\n",
        "    def clear_cart (self):\n",
        "        self.item = []\n",
        "\n",
        "shop = Shopping_cart()\n",
        "shop.add_item('apple','mango')\n",
        "shop.view_cart()\n"
      ],
      "metadata": {
        "colab": {
          "base_uri": "https://localhost:8080/"
        },
        "id": "R1Cq5DTHEIxu",
        "outputId": "8b715216-727b-439b-f541-f48250be6214"
      },
      "execution_count": null,
      "outputs": [
        {
          "output_type": "stream",
          "name": "stdout",
          "text": [
            "['apple', 'mango']\n"
          ]
        }
      ]
    },
    {
      "cell_type": "markdown",
      "source": [
        "# 10. Imagine a school management system. You have to design the \"Student\" class using OOP concepts.The “Student” class has the following attributes:\n",
        "a. name: Represents the name of the student.\n",
        "\n",
        "b. age: Represents the age of the student.\n",
        "\n",
        "c. grade: Represents the grade or class of the student.\n",
        "\n",
        "d. student_id: Represents the unique identifier for the student.\n",
        "\n",
        "e. attendance: Represents the attendance record of the student.\n",
        "\n",
        "The class should also include the following methods:\n",
        "a. update_attendance(self, date, status): Updates the attendance record of the student for a given date with the provided status (e.g., present or absent).\n",
        "\n",
        "b. get_attendance(self): Returns the attendance record of the student.\n",
        "\n",
        "c. get_average_attendance(self): Calculates and returns the average attendance percentage of the student based on their attendance record."
      ],
      "metadata": {
        "id": "cD64yVX9GLUY"
      }
    },
    {
      "cell_type": "code",
      "source": [
        "class Student:\n",
        "    def __init__(self, name, grade):\n",
        "        self.name = name\n",
        "        self.grade = grade\n",
        "        self.attendance = {}  # Dictionary to store attendance records\n",
        "\n",
        "    def update_attendance(self, date, status):\n",
        "        self.attendance[date] = status\n",
        "\n",
        "    def get_attendance(self):\n",
        "        present_count = 0\n",
        "        for s in self.attendance.values():\n",
        "            if s.lower()==\"present\":\n",
        "                present_count+=1\n",
        "        return present_count\n",
        "student = Student(\"John Doe\", \"Grade 10\")\n",
        "\n",
        "\n",
        "student.update_attendance(\"2023-07-05\", \"present\")\n",
        "student.update_attendance(\"2023-07-06\", \"present\")\n",
        "student.update_attendance(\"2023-07-07\", \"absent\")\n",
        "student.update_attendance(\"2023-07-08\", \"present\")\n",
        "student.update_attendance(\"2023-07-10\", \"present\")\n",
        "student.update_attendance(\"2023-07-11\", \"present\")\n",
        "student.update_attendance(\"2023-07-12\", \"absent\")\n",
        "student.update_attendance(\"2023-07-18\", \"present\")\n",
        "student.update_attendance(\"2023-07-12\", \"absent\")\n",
        "student.update_attendance(\"2023-07-18\", \"absent\") #updated record for 18/07/2023\n",
        "print(student.attendance)\n",
        "\n",
        "attendance_count = student.get_attendance()\n",
        "print(f\"\\nTotal attendance count: {attendance_count}\") #it will count the present dates\n"
      ],
      "metadata": {
        "id": "aBvpUxNLFdmS",
        "colab": {
          "base_uri": "https://localhost:8080/"
        },
        "outputId": "5207c2ba-3324-4f14-9de3-e39393dcca27"
      },
      "execution_count": null,
      "outputs": [
        {
          "output_type": "stream",
          "name": "stdout",
          "text": [
            "{'2023-07-05': 'present', '2023-07-06': 'present', '2023-07-07': 'absent', '2023-07-08': 'present', '2023-07-10': 'present', '2023-07-11': 'present', '2023-07-12': 'absent', '2023-07-18': 'absent'}\n",
            "\n",
            "Total attendance count: 5\n"
          ]
        }
      ]
    },
    {
      "cell_type": "code",
      "source": [],
      "metadata": {
        "id": "kVpDE-JUg7vx"
      },
      "execution_count": null,
      "outputs": []
    }
  ]
}