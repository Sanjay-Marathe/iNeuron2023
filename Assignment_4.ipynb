{
 "cells": [
  {
   "cell_type": "code",
   "execution_count": null,
   "id": "5da7891c",
   "metadata": {},
   "outputs": [],
   "source": [
    "# 1. What exactly is []?\n",
    "Ans: This is empty list.List which not contain any value."
   ]
  },
  {
   "cell_type": "code",
   "execution_count": 9,
   "id": "4158a22e",
   "metadata": {},
   "outputs": [
    {
     "data": {
      "text/plain": [
       "[2, 4, 'hello', 8, 10]"
      ]
     },
     "execution_count": 9,
     "metadata": {},
     "output_type": "execute_result"
    }
   ],
   "source": [
    "# 2. In a list of values stored in a variable called spam, how would you assign the value 'hello' as the third value? (Assume [2, 4, 6, 8, 10] are in spam.)\n",
    "spam=[2,4,6,8,10]\n",
    "spam[2] ='hello'\n",
    "spam\n"
   ]
  },
  {
   "cell_type": "markdown",
   "id": "a864dade",
   "metadata": {},
   "source": [
    "#Let's pretend spam includes the list ['a','b','c','d'] for the next three queries."
   ]
  },
  {
   "cell_type": "code",
   "execution_count": 11,
   "id": "9e829e3b",
   "metadata": {},
   "outputs": [
    {
     "data": {
      "text/plain": [
       "'d'"
      ]
     },
     "execution_count": 11,
     "metadata": {},
     "output_type": "execute_result"
    }
   ],
   "source": [
    "#3. What is the value of spam[int(int('3'*2)/11))?\n",
    "spam=['a','b','c','d']\n",
    "spam[int(int('3'*2)/11)]"
   ]
  },
  {
   "cell_type": "code",
   "execution_count": null,
   "id": "faa6eec7",
   "metadata": {},
   "outputs": [],
   "source": [
    "# Here 'd' because it gives vaulue correcsonding to index 3 in list spam[3]\n"
   ]
  },
  {
   "cell_type": "code",
   "execution_count": 12,
   "id": "1709548c",
   "metadata": {},
   "outputs": [
    {
     "data": {
      "text/plain": [
       "'d'"
      ]
     },
     "execution_count": 12,
     "metadata": {},
     "output_type": "execute_result"
    }
   ],
   "source": [
    "# 4. What is the value of spam[-1]?\n",
    "spam[-1]\n",
    "\n"
   ]
  },
  {
   "cell_type": "code",
   "execution_count": null,
   "id": "20acfff3",
   "metadata": {},
   "outputs": [],
   "source": [
    "# here code gives last element in list"
   ]
  },
  {
   "cell_type": "code",
   "execution_count": 13,
   "id": "5864e2b8",
   "metadata": {},
   "outputs": [
    {
     "data": {
      "text/plain": [
       "['a', 'b']"
      ]
     },
     "execution_count": 13,
     "metadata": {},
     "output_type": "execute_result"
    }
   ],
   "source": [
    "# 5. What is the value of spam[:2]?\n",
    "spam[:2]"
   ]
  },
  {
   "cell_type": "code",
   "execution_count": null,
   "id": "ce7033d7",
   "metadata": {},
   "outputs": [],
   "source": [
    "# here code gives list element from index 0 to 1 excluding upper bound 2.\n"
   ]
  },
  {
   "cell_type": "code",
   "execution_count": 14,
   "id": "cd980186",
   "metadata": {},
   "outputs": [],
   "source": [
    "# Lets pretend bacon has the list [3.14,'cat',11,'cat',True] for the next three questions.\n",
    "\n",
    "bacon=[3.14,'cat',11,'cat',True]"
   ]
  },
  {
   "cell_type": "code",
   "execution_count": 15,
   "id": "6ec03b31",
   "metadata": {},
   "outputs": [
    {
     "data": {
      "text/plain": [
       "1"
      ]
     },
     "execution_count": 15,
     "metadata": {},
     "output_type": "execute_result"
    }
   ],
   "source": [
    "# 6. What is the value of bacon.index('cat')?\n",
    "\n",
    "bacon.index('cat')"
   ]
  },
  {
   "cell_type": "code",
   "execution_count": 16,
   "id": "b3e56219",
   "metadata": {},
   "outputs": [],
   "source": [
    "# 7. How does bacon.append(99) change the look of the list value in bacon?\n",
    "bacon.append(99)"
   ]
  },
  {
   "cell_type": "code",
   "execution_count": 17,
   "id": "0e9c2832",
   "metadata": {},
   "outputs": [
    {
     "data": {
      "text/plain": [
       "[3.14, 'cat', 11, 'cat', True, 99]"
      ]
     },
     "execution_count": 17,
     "metadata": {},
     "output_type": "execute_result"
    }
   ],
   "source": [
    "bacon"
   ]
  },
  {
   "cell_type": "code",
   "execution_count": 20,
   "id": "5ca3a682",
   "metadata": {},
   "outputs": [],
   "source": [
    "#8. How does bacon.remove('cat') change the look of the list in bacon?\n",
    "bacon=[3.14,'cat',11,'cat',True]\n",
    "bacon.remove('cat')\n",
    "\n"
   ]
  },
  {
   "cell_type": "code",
   "execution_count": 21,
   "id": "d114f2c7",
   "metadata": {},
   "outputs": [
    {
     "data": {
      "text/plain": [
       "[3.14, 11, 'cat', True]"
      ]
     },
     "execution_count": 21,
     "metadata": {},
     "output_type": "execute_result"
    }
   ],
   "source": [
    "bacon"
   ]
  },
  {
   "cell_type": "code",
   "execution_count": 38,
   "id": "7faea06a",
   "metadata": {},
   "outputs": [],
   "source": [
    "# 9. What are the list concatenation and list replication operators?\n",
    "#Ans: for list concatenation we use + while for replication use * operator.\n",
    "a=[1,2,3]\n",
    "b=[7,8,9]\n"
   ]
  },
  {
   "cell_type": "code",
   "execution_count": 39,
   "id": "16e4d589",
   "metadata": {},
   "outputs": [
    {
     "data": {
      "text/plain": [
       "[1, 2, 3, 7, 8, 9]"
      ]
     },
     "execution_count": 39,
     "metadata": {},
     "output_type": "execute_result"
    }
   ],
   "source": [
    "a+b"
   ]
  },
  {
   "cell_type": "code",
   "execution_count": 52,
   "id": "5e2b48f0",
   "metadata": {},
   "outputs": [
    {
     "data": {
      "text/plain": [
       "['alka', 'asha', 'alka', 'asha']"
      ]
     },
     "execution_count": 52,
     "metadata": {},
     "output_type": "execute_result"
    }
   ],
   "source": [
    "a=['alka','asha']\n",
    "a*2"
   ]
  },
  {
   "cell_type": "code",
   "execution_count": null,
   "id": "5c22f190",
   "metadata": {},
   "outputs": [],
   "source": [
    "# 10. What is difference between the list methods append() and insert()?\n",
    "\n",
    "Ans: append() can add only element to end of the list while insert() can add element any where in the list.\n"
   ]
  },
  {
   "cell_type": "code",
   "execution_count": 59,
   "id": "984d6662",
   "metadata": {},
   "outputs": [
    {
     "data": {
      "text/plain": [
       "['asha']"
      ]
     },
     "execution_count": 59,
     "metadata": {},
     "output_type": "execute_result"
    }
   ],
   "source": [
    "# 11. What are the two methods for removing items from a list?\n",
    "#Ans: The del statement and the remove() are two ways to remove values from a list"
   ]
  },
  {
   "cell_type": "code",
   "execution_count": null,
   "id": "c9fa4649",
   "metadata": {},
   "outputs": [],
   "source": [
    "# 12. Describe how list values and string values are identical.\n",
    "\n",
    "Ans:Both lists and strings have indexes. We can use len(),concatenate and slices methods.Both can be used with in for loop and with in or operators."
   ]
  },
  {
   "cell_type": "code",
   "execution_count": null,
   "id": "33b01340",
   "metadata": {},
   "outputs": [],
   "source": [
    "# 13. What's the difference between tuples and lists?\n",
    "#Ans: List are mutable. We can add,change,remove elements in list. It is represented by [],while tuples are immutable.we not able to change tuples data.tuples represented by ().\n",
    "\n"
   ]
  },
  {
   "cell_type": "code",
   "execution_count": 3,
   "id": "4cbec64a",
   "metadata": {},
   "outputs": [],
   "source": [
    "# 14. How do you type a tuple value that only contains the integer 42?\n",
    "# In tuple trailing comma mandatory.\n",
    "x=(42,) yes its mandatory to hve comma"
   ]
  },
  {
   "cell_type": "code",
   "execution_count": 4,
   "id": "e3e9845a",
   "metadata": {},
   "outputs": [
    {
     "data": {
      "text/plain": [
       "tuple"
      ]
     },
     "execution_count": 4,
     "metadata": {},
     "output_type": "execute_result"
    }
   ],
   "source": [
    "type(x)"
   ]
  },
  {
   "cell_type": "code",
   "execution_count": 9,
   "id": "70cca9ec",
   "metadata": {},
   "outputs": [
    {
     "data": {
      "text/plain": [
       "[42]"
      ]
     },
     "execution_count": 9,
     "metadata": {},
     "output_type": "execute_result"
    }
   ],
   "source": [
    "# 15. How do you get a list value's tuple form? How do you get a tuple value's list form?\n",
    "\n",
    "list(x)"
   ]
  },
  {
   "cell_type": "code",
   "execution_count": 10,
   "id": "90ba92ee",
   "metadata": {},
   "outputs": [
    {
     "data": {
      "text/plain": [
       "(42,)"
      ]
     },
     "execution_count": 10,
     "metadata": {},
     "output_type": "execute_result"
    }
   ],
   "source": [
    "tuple(x)"
   ]
  },
  {
   "cell_type": "code",
   "execution_count": 11,
   "id": "0ccf03ee",
   "metadata": {},
   "outputs": [
    {
     "data": {
      "text/plain": [
       "tuple"
      ]
     },
     "execution_count": 11,
     "metadata": {},
     "output_type": "execute_result"
    }
   ],
   "source": [
    "type(x)"
   ]
  },
  {
   "cell_type": "code",
   "execution_count": null,
   "id": "2541b3d6",
   "metadata": {},
   "outputs": [],
   "source": [
    "#Ans: By using tuple() & list() functions we can change list to tuple and tuple to list form."
   ]
  },
  {
   "cell_type": "code",
   "execution_count": null,
   "id": "6f2f8497",
   "metadata": {},
   "outputs": [],
   "source": [
    "# 16. Variables that \"contains\" list values are not necessarily lists themselves. Instead, what do they\n",
    "contain?\n",
    "#Ans:They have references to list values."
   ]
  },
  {
   "cell_type": "code",
   "execution_count": null,
   "id": "93b2af15",
   "metadata": {},
   "outputs": [],
   "source": [
    "# 17. How do you distinguish between copy.copy() and copy.deepcopy()?\n",
    "\n",
    "#Ans: The copy.copy() function will do a shallow copy of a list element , while the copy.deepcopy() function will do a deep copy of a list. That is, only copy.deepcopy() will copy any lists inside the list.\n"
   ]
  }
 ],
 "metadata": {
  "kernelspec": {
   "display_name": "Python 3 (ipykernel)",
   "language": "python",
   "name": "python3"
  },
  "language_info": {
   "codemirror_mode": {
    "name": "ipython",
    "version": 3
   },
   "file_extension": ".py",
   "mimetype": "text/x-python",
   "name": "python",
   "nbconvert_exporter": "python",
   "pygments_lexer": "ipython3",
   "version": "3.10.9"
  }
 },
 "nbformat": 4,
 "nbformat_minor": 5
}
