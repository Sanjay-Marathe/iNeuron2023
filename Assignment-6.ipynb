{
 "cells": [
  {
   "cell_type": "markdown",
   "id": "7dad9ca3",
   "metadata": {},
   "source": [
    "# Q.1. What are keywords in python? Using the keyword library, print all the python keywords.\n",
    "\n",
    "Ans:Keywords are reserved words which are not be used as a variable name, function name, or any other identifier in python programming."
   ]
  },
  {
   "cell_type": "code",
   "execution_count": 18,
   "id": "51cd271b",
   "metadata": {},
   "outputs": [
    {
     "name": "stdout",
     "output_type": "stream",
     "text": [
      "['False', 'None', 'True', 'and', 'as', 'assert', 'async', 'await', 'break', 'class', 'continue', 'def', 'del', 'elif', 'else', 'except', 'finally', 'for', 'from', 'global', 'if', 'import', 'in', 'is', 'lambda', 'nonlocal', 'not', 'or', 'pass', 'raise', 'return', 'try', 'while', 'with', 'yield']\n"
     ]
    }
   ],
   "source": [
    "#import keyword module\n",
    "import keyword\n",
    "#printing  keyword list \n",
    "x=keyword.kwlist\n",
    "print(x)"
   ]
  },
  {
   "cell_type": "markdown",
   "id": "718fc2b4",
   "metadata": {},
   "source": [
    "# Q.2. What are the rules to create variables in python?\n",
    "Ans:In python programming we need to used variable while writing code.Following rules need to consider while naming variables:\n",
    "\n",
    "A variable name must start with a letter or the underscore character\n",
    "\n",
    "A variable name cannot start with a number\n",
    "\n",
    "A variable name can only contain alpha-numeric characters and underscores (A-z, 0-9, and _ )\n",
    "\n",
    "Variable names are case-sensitive (age, Age and AGE are three different variables)\n",
    "\n",
    "A variable name cannot have any of the Python keywords."
   ]
  },
  {
   "cell_type": "markdown",
   "id": "6a93d42b",
   "metadata": {},
   "source": [
    "# Q.3. What are the standards and conventions followed for the nomenclature of variables in python to improve code readability and maintainability?\n",
    "Ans: While declaring names of variables in certain naming convention we need to keep in mind. \n",
    "1. Python is case sensitive language so Variable name like Year ,year are each different variables.\n",
    "2. Variables name contain number, _ and A-Z,a-z,0-9 but the first character of a variable name can’t be a digit.\n",
    "3. Keep variable name logical to our code \n",
    "\n"
   ]
  },
  {
   "cell_type": "markdown",
   "id": "d3ae936a",
   "metadata": {},
   "source": [
    "# Q.4. What will happen if a keyword is used as a variable name?\n",
    "Ans:Our code will give error like below i give took variable name if and assign value. it will give SyntaxError: invalid syntax\n",
    "\n",
    "\n"
   ]
  },
  {
   "cell_type": "code",
   "execution_count": 26,
   "id": "5db10a57",
   "metadata": {},
   "outputs": [
    {
     "ename": "SyntaxError",
     "evalue": "invalid syntax (3720963118.py, line 1)",
     "output_type": "error",
     "traceback": [
      "\u001b[1;36m  Cell \u001b[1;32mIn[26], line 1\u001b[1;36m\u001b[0m\n\u001b[1;33m    for=3\u001b[0m\n\u001b[1;37m       ^\u001b[0m\n\u001b[1;31mSyntaxError\u001b[0m\u001b[1;31m:\u001b[0m invalid syntax\n"
     ]
    }
   ],
   "source": [
    "if=3\n",
    "print(if)"
   ]
  },
  {
   "cell_type": "markdown",
   "id": "47708ff0",
   "metadata": {},
   "source": [
    "# Q.5. For what purpose def keyword is used?\n",
    "Ans: Python def keyword is used to define a function, it is used before a function name which user want to create."
   ]
  },
  {
   "cell_type": "markdown",
   "id": "559908bb",
   "metadata": {},
   "source": [
    "# Q.6. What is the operation of this special character ‘\\’?\n",
    "Ans: An escape character is a backslash \\ followed by the character which we want to insert.like \\n will create new line,\\t create tab,\\'single quote."
   ]
  },
  {
   "cell_type": "markdown",
   "id": "f4b97e9e",
   "metadata": {},
   "source": [
    "# Q.7. Give an example of the following conditions:\n",
    "(i) Homogeneous list\n",
    "(ii) Heterogeneous set\n",
    "(iii) Homogeneous tuple\n",
    "\n"
   ]
  },
  {
   "cell_type": "code",
   "execution_count": 30,
   "id": "55f85eee",
   "metadata": {},
   "outputs": [
    {
     "name": "stdout",
     "output_type": "stream",
     "text": [
      "{1, 2, 3, 1.5, 'Sam'}\n"
     ]
    }
   ],
   "source": [
    "#(i) Homogeneous list here our homo_list have same type of integer data type in it\n",
    "\n",
    "homo_list=[0,1,2,3,4,5]\n",
    "\n",
    "#(ii) Heterogeneous set here set have integer,float,string data types in it\n",
    "hetero_set={1,2,3,'Sam',1.5,1}\n",
    "print(hetero_set)"
   ]
  },
  {
   "cell_type": "code",
   "execution_count": 29,
   "id": "a26930e7",
   "metadata": {},
   "outputs": [
    {
     "data": {
      "text/plain": [
       "set"
      ]
     },
     "execution_count": 29,
     "metadata": {},
     "output_type": "execute_result"
    }
   ],
   "source": [
    "type(hetero_set)"
   ]
  },
  {
   "cell_type": "code",
   "execution_count": 39,
   "id": "4ca3ffb6",
   "metadata": {},
   "outputs": [],
   "source": [
    "#(iii) Homogeneous tuple here I have created tuple with all string data types.\n",
    "Homo_tup=('Apple','Banana','Grapes','Mango')"
   ]
  },
  {
   "cell_type": "code",
   "execution_count": 40,
   "id": "41299900",
   "metadata": {},
   "outputs": [
    {
     "name": "stdout",
     "output_type": "stream",
     "text": [
      "('Apple', 'Banana', 'Grapes', 'Mango')\n"
     ]
    }
   ],
   "source": [
    "print(Homo_tup)"
   ]
  },
  {
   "cell_type": "markdown",
   "id": "060b3bca",
   "metadata": {},
   "source": [
    "# Q.8. Explain the mutable and immutable data types with proper explanation & examples.\n",
    "\n",
    "Ans: Mutable data type can be changed after they are created while immutable datatype cannotbe changed after they are created.\n",
    "\n",
    "Mutable Data type in Python are : List,Dict,Set\n",
    "Immutable Data type in Python are: Tuple,strings,int,float,bool"
   ]
  },
  {
   "cell_type": "code",
   "execution_count": 1,
   "id": "f4094db3",
   "metadata": {},
   "outputs": [
    {
     "data": {
      "text/plain": [
       "[1, 2, 3, 'Apple']"
      ]
     },
     "execution_count": 1,
     "metadata": {},
     "output_type": "execute_result"
    }
   ],
   "source": [
    "#e.g  here we added new element 'Apple' in list and print whole list after adding element at index 3 in it :\n",
    "\n",
    "ls=[1,2,3,4]\n",
    "ls[3]='Apple'\n",
    "ls"
   ]
  },
  {
   "cell_type": "code",
   "execution_count": 2,
   "id": "bd1c1e54",
   "metadata": {},
   "outputs": [],
   "source": [
    "#e.g  here we added new key value 'Address' and it value in Dict in it :\n",
    "Dict={'Name':'Tom','Age':30,}\n"
   ]
  },
  {
   "cell_type": "code",
   "execution_count": 3,
   "id": "4d935b28",
   "metadata": {},
   "outputs": [],
   "source": [
    "Dict['Address']='104-A Faukner St'"
   ]
  },
  {
   "cell_type": "code",
   "execution_count": 4,
   "id": "1de98891",
   "metadata": {},
   "outputs": [
    {
     "data": {
      "text/plain": [
       "{'Name': 'Tom', 'Age': 30, 'Address': '104-A Faukner St'}"
      ]
     },
     "execution_count": 4,
     "metadata": {},
     "output_type": "execute_result"
    }
   ],
   "source": [
    "Dict"
   ]
  },
  {
   "cell_type": "code",
   "execution_count": 5,
   "id": "f23b0254",
   "metadata": {},
   "outputs": [
    {
     "data": {
      "text/plain": [
       "'I'"
      ]
     },
     "execution_count": 5,
     "metadata": {},
     "output_type": "execute_result"
    }
   ],
   "source": [
    "# here giving example of immutable strings and Tuple after assigning new value to 0 index in strings and tuple we get error not support assignment\n",
    "\n",
    "x='Ineuron'\n",
    "\n",
    "x[0]"
   ]
  },
  {
   "cell_type": "code",
   "execution_count": 6,
   "id": "b86310c0",
   "metadata": {},
   "outputs": [
    {
     "ename": "TypeError",
     "evalue": "'str' object does not support item assignment",
     "output_type": "error",
     "traceback": [
      "\u001b[1;31m---------------------------------------------------------------------------\u001b[0m",
      "\u001b[1;31mTypeError\u001b[0m                                 Traceback (most recent call last)",
      "Cell \u001b[1;32mIn[6], line 1\u001b[0m\n\u001b[1;32m----> 1\u001b[0m x[\u001b[38;5;241m0\u001b[39m]\u001b[38;5;241m=\u001b[39m\u001b[38;5;124m\"\u001b[39m\u001b[38;5;124mt\u001b[39m\u001b[38;5;124m\"\u001b[39m\n",
      "\u001b[1;31mTypeError\u001b[0m: 'str' object does not support item assignment"
     ]
    }
   ],
   "source": [
    "x[0]=\"t\""
   ]
  },
  {
   "cell_type": "code",
   "execution_count": 10,
   "id": "2aec5fc8",
   "metadata": {},
   "outputs": [
    {
     "ename": "TypeError",
     "evalue": "'tuple' object does not support item assignment",
     "output_type": "error",
     "traceback": [
      "\u001b[1;31m---------------------------------------------------------------------------\u001b[0m",
      "\u001b[1;31mTypeError\u001b[0m                                 Traceback (most recent call last)",
      "Cell \u001b[1;32mIn[10], line 3\u001b[0m\n\u001b[0;32m      1\u001b[0m t\u001b[38;5;241m=\u001b[39m(\u001b[38;5;241m1\u001b[39m,\u001b[38;5;241m2\u001b[39m,\u001b[38;5;241m3\u001b[39m,\u001b[38;5;241m5454\u001b[39m,\u001b[38;5;241m6454\u001b[39m)\n\u001b[1;32m----> 3\u001b[0m t[\u001b[38;5;241m0\u001b[39m]\u001b[38;5;241m=\u001b[39m\u001b[38;5;241m34\u001b[39m\n",
      "\u001b[1;31mTypeError\u001b[0m: 'tuple' object does not support item assignment"
     ]
    }
   ],
   "source": [
    "t=(1,2,3,5454,6454)\n",
    "\n",
    "t[0]=34"
   ]
  },
  {
   "cell_type": "markdown",
   "id": "bc649486",
   "metadata": {},
   "source": [
    "# Q.9. Write a code to create the given structure using only for loop.\n"
   ]
  },
  {
   "cell_type": "code",
   "execution_count": 93,
   "id": "598049c0",
   "metadata": {},
   "outputs": [
    {
     "name": "stdout",
     "output_type": "stream",
     "text": [
      "         *\r\n",
      "        ***\r\n",
      "       *****\r\n",
      "      *******\r\n",
      "     *********\r\n"
     ]
    }
   ],
   "source": [
    "row=10\n",
    "k=row-1\n",
    "#this loop for outer row\n",
    "for i in range(0,row,2):\n",
    "    for j in range(0,k):\n",
    "        print(end=\" \")\n",
    "    k=k-1\n",
    "    for j in range(0,i+1):\n",
    "        print('*',end='')\n",
    "    print('\\r')"
   ]
  },
  {
   "cell_type": "markdown",
   "id": "09488932",
   "metadata": {},
   "source": [
    "# Q.10. Write a code to create the given structure using while loop.\n"
   ]
  },
  {
   "cell_type": "code",
   "execution_count": 20,
   "id": "bbb318b1",
   "metadata": {},
   "outputs": [
    {
     "name": "stdout",
     "output_type": "stream",
     "text": [
      "|||||||||\r\n",
      "|||||||\r\n",
      "|||||\r\n",
      "|||\r\n",
      "|\r\n"
     ]
    }
   ],
   "source": [
    "n = 10\n",
    "\n",
    " \n",
    "i = 1\n",
    "while i <= n :\n",
    "    print(end=\"\")\n",
    "    j = n-1\n",
    "    \n",
    "    while j >= i:\n",
    "        \n",
    "        print(\"|\", end =\"\")\n",
    "        j -=1\n",
    "            \n",
    "    i += 2\n",
    "    print('\\r')\n",
    "    \n",
    "    "
   ]
  },
  {
   "cell_type": "code",
   "execution_count": null,
   "id": "1b8d9339",
   "metadata": {},
   "outputs": [],
   "source": []
  }
 ],
 "metadata": {
  "kernelspec": {
   "display_name": "Python 3 (ipykernel)",
   "language": "python",
   "name": "python3"
  },
  "language_info": {
   "codemirror_mode": {
    "name": "ipython",
    "version": 3
   },
   "file_extension": ".py",
   "mimetype": "text/x-python",
   "name": "python",
   "nbconvert_exporter": "python",
   "pygments_lexer": "ipython3",
   "version": "3.10.9"
  }
 },
 "nbformat": 4,
 "nbformat_minor": 5
}
