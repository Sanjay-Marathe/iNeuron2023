{
  "nbformat": 4,
  "nbformat_minor": 0,
  "metadata": {
    "colab": {
      "provenance": []
    },
    "kernelspec": {
      "name": "python3",
      "display_name": "Python 3"
    },
    "language_info": {
      "name": "python"
    }
  },
  "cells": [
    {
      "cell_type": "markdown",
      "source": [
        "1.Explain what inheritance is in object-oriented programming and why it is used.\n",
        "\n",
        "Ans:Inheritance is the concept in OOPs by which one class inherits the attributes and methods of another class. The class whose properties and methods are inherited is known as the Parent class. And the class that inherits the properties from the parent class is the Child class.\n",
        "\n",
        "Inheritance provides code reusability.Because of inheritance, we are able toinherit abstract classes, classes with constructors, etc. For example we can say cars,trucks,bus all are inherited from vehicle class and have common attribute like vehicle class.\n",
        "\n"
      ],
      "metadata": {
        "id": "Yxzl3pQyk9W1"
      }
    },
    {
      "cell_type": "markdown",
      "source": [
        "2.Discuss the concept of single inheritance and multiple inheritance, highlighting their\n",
        "differences and advantages. **bold text**\n",
        "\n",
        "Ans:**In Single inheritance**, there is a single base or parent class, and a single derived class. The derived class inherits the base class either publicly, protectedly and privately. The ttributes of the base class can be accessed by derived class according to the access specifier specified during inheriting the base class.\n",
        "\n",
        "Lets take example for this we have two classes, an “account class” and a” saving account class”. Saving account class can inherit the feature of account class, so account class will become base/parent class for saving account class, and saving account class will be a derived class\n",
        "\n",
        "**Multiple inheritance** allows derived class to inherit combined features of more than one base class, i.e. we do have single derived class and multiple base classes. Every base class has to be inherited by mentioning the separate access specifier for each of them. A derived class can access the attributes of base classes based on the access specifier by which the base class is inherited.\n",
        "\n",
        "\n"
      ],
      "metadata": {
        "id": "mJSn7SSG8RQ1"
      }
    },
    {
      "cell_type": "markdown",
      "source": [
        "3.Explain the terms \"base class\" and \"derived class\" in the context of inheritance.\n",
        "\n",
        "Ans: **Base Class:** It is a class in Object-Oriented Programming language, from which other classes are derived. The class which inherits the base class has all members of a base class as well as can also have some additional properties. The Base class members and member functions are inherited to Object of the derived class. A base class is also called parent class or superclass.\n",
        "**Derived Class:** A class that is created from an existing class. The derived class inherits all members and member functions of a base class. The derived class can have more functionality with respect to the Base class and can easily access the Base class. A Derived class is also called a child class or subclass.\n"
      ],
      "metadata": {
        "id": "1BMvjKwb8VVe"
      }
    },
    {
      "cell_type": "markdown",
      "source": [
        "4.What is the significance of the \"protected\" access modifier in inheritance? How does it differ from \"private\" and \"public\" modifiers?\n",
        "\n",
        "Ans: Like other OOps based programming language python programming also control access modifications which are used to restrict access to the variables and methods of the class.Most programming languages has three forms of access modifiers, which are Public, Protected and Private in a class.A Class in Python has three types of access modifiers:\n",
        "\n",
        "Public Access Modifier\n",
        "\n",
        "The members of a class that are declared public are easily accessible from any part of the program. All data members and member functions of a class are public by default.\n",
        "\n",
        "Protected Access Modifier\n",
        "\n",
        "The members of a class that are declared protected are only accessible to a class derived from it. Data members of a class are declared protected by adding a single underscore ‘_’ symbol before the data member of that class.\n",
        "\n",
        "\n",
        "Private Access Modifier **bold text**\n",
        "The members of a class that are declared private are accessible within the class only, private access modifier is the most secure access modifier. Data members of a class are declared private by adding a double underscore ‘__’ symbol before the data member of that class.\n",
        "\n"
      ],
      "metadata": {
        "id": "iIz5cStK8Rzu"
      }
    },
    {
      "cell_type": "markdown",
      "source": [
        "5.What is the purpose of the \"super\" keyword in inheritance? Provide an example.\n",
        "Ans:The super function in Python is used to access methods of the immediate parent class.\n",
        "\n",
        "Like here in Chid class super class Parent constructor called\n",
        "\n",
        "class Parent:\n",
        "  def __init__(self, txt):\n",
        "    self.message = txt\n",
        "\n",
        "  def printmessage(self):\n",
        "    print(self.message)\n",
        "\n",
        "class Child(Parent):\n",
        "  def __init__(self, txt):\n",
        "    super().__init__(txt)\n",
        "\n",
        "x = Child(\"Hello, and welcome!\")\n",
        "\n",
        "x.printmessage()"
      ],
      "metadata": {
        "id": "M3jS9GBM8hUt"
      }
    },
    {
      "cell_type": "markdown",
      "source": [
        "6.Create a base class called \"Vehicle\" with attributes like \"make\", \"model\", and \"year\". Then, create a derived class called \"Car\" that inherits from \"Vehicle\" and adds an attribute called \"fuel_type\". Implement appropriate methods in both classes."
      ],
      "metadata": {
        "id": "_oKde9zM8Gox"
      }
    },
    {
      "cell_type": "code",
      "source": [
        "# Creation of Base class\n",
        "class Vehicle:\n",
        "  def __init__(self,make,model,year):\n",
        "    self.make=make\n",
        "    self.model=model\n",
        "    self.year=year\n",
        "\n",
        "#Derived class Car\n",
        "\n",
        "class Car(Vehicle):\n",
        "  def __init__(self,make,model,year,fuel_type):\n",
        "    super().__init__(make,model,year)\n",
        "    self.fuel_type=fuel_type\n",
        "\n",
        "  def display_info(self):\n",
        "    return f\"This {self.make} Car {self.model} model was built on {self.year} and having {self.fuel_type} engine\"\n",
        "\n",
        "\n",
        "# creation of child class object and displaying its information\n",
        "\n",
        "my_car=Car('TATA','TOP','2023','Petrol')\n",
        "my_car.display_info()"
      ],
      "metadata": {
        "colab": {
          "base_uri": "https://localhost:8080/",
          "height": 35
        },
        "id": "hK6DHLCB77qX",
        "outputId": "c8936b1e-ccb0-4cd6-829f-500631922838"
      },
      "execution_count": 52,
      "outputs": [
        {
          "output_type": "execute_result",
          "data": {
            "text/plain": [
              "'This TATA Car TOP model was built on 2023 and having Petrol engine'"
            ],
            "application/vnd.google.colaboratory.intrinsic+json": {
              "type": "string"
            }
          },
          "metadata": {},
          "execution_count": 52
        }
      ]
    },
    {
      "cell_type": "markdown",
      "source": [
        "\n",
        "\n",
        "```\n",
        "# This is formatted as code\n",
        "```\n",
        "\n"
      ],
      "metadata": {
        "id": "8pLUebUd70ro"
      }
    },
    {
      "cell_type": "markdown",
      "source": [
        "7. Create a base class called \"Employee\" with attributes like \"name\" and \"salary.\"\n",
        "Derive two classes, \"Manager\" and \"Developer,\" from \"Employee.\" Add an additional\n",
        "attribute called \"department\" for the \"Manager\" class and \"programming_language\"\n",
        "for the \"Developer\" class."
      ],
      "metadata": {
        "id": "AN9NQdt5lFxL"
      }
    },
    {
      "cell_type": "code",
      "source": [
        "# Creation on base class Employee\n",
        "\n",
        "class Employee:\n",
        "  def __init__(self,name,salary):\n",
        "    self.name=name\n",
        "    self.salary=salary\n",
        "\n",
        "# Creation of child class Manager usng inheriting parent class employee\n",
        "class Manager(Employee):\n",
        "  def __init__(self,name,salary,department):\n",
        "    super().__init__(name,salary)\n",
        "    self.department=department\n",
        "\n",
        "\n",
        "# Creation of child class Developer usng inheriting parent class employee\n",
        "\n",
        "class Developer(Employee):\n",
        "  def __init__(self,name,salary,programming_language):\n",
        "    super().__init__(name,salary)\n",
        "    self.programming_language=programming_language\n",
        "\n",
        "# creating two objects using Manager and Developer class\n",
        "\n",
        "Krish_Manager=Manager('Krish',50000,'Operations')\n",
        "Sunny_Dev=Developer('Sunny',30000,'Python Developer')"
      ],
      "metadata": {
        "id": "V-6MKGcylHc8"
      },
      "execution_count": 53,
      "outputs": []
    },
    {
      "cell_type": "code",
      "source": [
        "# Printing details of manager objects\n",
        "\n",
        "print(Krish_Manager.name)\n",
        "print(Krish_Manager.salary)\n",
        "print(Krish_Manager.department)"
      ],
      "metadata": {
        "colab": {
          "base_uri": "https://localhost:8080/"
        },
        "id": "zPQr9tSSnUU0",
        "outputId": "95fbc4da-b79b-4a04-aeb5-6e5ab013e17d"
      },
      "execution_count": 54,
      "outputs": [
        {
          "output_type": "stream",
          "name": "stdout",
          "text": [
            "Krish\n",
            "50000\n",
            "Operations\n"
          ]
        }
      ]
    },
    {
      "cell_type": "code",
      "source": [
        "# Printing details of developer class object\n",
        "\n",
        "print(Sunny_Dev.name)\n",
        "print(Sunny_Dev.salary)\n",
        "print(Sunny_Dev.programming_language)"
      ],
      "metadata": {
        "colab": {
          "base_uri": "https://localhost:8080/"
        },
        "id": "_uGLRo4OntDT",
        "outputId": "6c5fc096-7ca1-4058-9b80-6a5f35c18b4a"
      },
      "execution_count": 55,
      "outputs": [
        {
          "output_type": "stream",
          "name": "stdout",
          "text": [
            "Sunny\n",
            "30000\n",
            "Python Developer\n"
          ]
        }
      ]
    },
    {
      "cell_type": "markdown",
      "source": [
        "8. Design a base class called \"Shape\" with attributes like \"colour\" and \"border_width.\"\n",
        "Create derived classes, \"Rectangle\" and \"Circle,\" that inherit from \"Shape\" and add\n",
        "specific attributes like \"length\" and \"width\" for the \"Rectangle\" class and \"radius\" for\n",
        "the \"Circle\" class."
      ],
      "metadata": {
        "id": "J67BRAX4oW2K"
      }
    },
    {
      "cell_type": "code",
      "source": [
        "# Creation of base class Shape\n",
        "\n",
        "class Shape:\n",
        "  def __init__(self,colour,border_width):\n",
        "    self.colour=colour\n",
        "    self.border_width=border_width\n",
        "\n",
        "\n",
        "\n",
        "#Creation of child/Derived class Rectangle from base class Shape\n",
        "\n",
        "class Rectangle(Shape):\n",
        "  def __init__(self,length,colour,border_width):\n",
        "    self.length=length\n",
        "    super().__init__(colour,border_width)\n",
        "\n",
        "\n",
        "#Creation of child/Derived class Circle from base class Shape\n",
        "\n",
        "class Circle(Shape):\n",
        "  def __init__(self,radius,colour):\n",
        "    self.radius=radius\n",
        "    super().__init__(colour,border_width=0)\n",
        "\n",
        "\n"
      ],
      "metadata": {
        "id": "tqv2Kdf6oYBC"
      },
      "execution_count": 56,
      "outputs": []
    },
    {
      "cell_type": "code",
      "source": [
        "R=Rectangle(2,'Red',3)\n",
        "\n",
        "C=Circle(2,'Green')"
      ],
      "metadata": {
        "id": "xWMWVzuDwU_i"
      },
      "execution_count": 57,
      "outputs": []
    },
    {
      "cell_type": "code",
      "source": [
        "R.border_width"
      ],
      "metadata": {
        "colab": {
          "base_uri": "https://localhost:8080/"
        },
        "id": "BH6_6sh0wonA",
        "outputId": "fa8abb53-51f0-4c4e-c425-798f0abf67ae"
      },
      "execution_count": 58,
      "outputs": [
        {
          "output_type": "execute_result",
          "data": {
            "text/plain": [
              "3"
            ]
          },
          "metadata": {},
          "execution_count": 58
        }
      ]
    },
    {
      "cell_type": "code",
      "source": [
        "C.border_width"
      ],
      "metadata": {
        "id": "Y_Fymx7Xwsyw",
        "colab": {
          "base_uri": "https://localhost:8080/"
        },
        "outputId": "c6a8d9df-61e0-48f5-be2f-719bf5ab9940"
      },
      "execution_count": 59,
      "outputs": [
        {
          "output_type": "execute_result",
          "data": {
            "text/plain": [
              "0"
            ]
          },
          "metadata": {},
          "execution_count": 59
        }
      ]
    },
    {
      "cell_type": "markdown",
      "source": [
        "9.Create a base class called \"Device\" with attributes like \"brand\" and \"model.\" Derive\n",
        "two classes, \"Phone\" and \"Tablet,\" from \"Device.\" Add specific attributes like\n",
        "\"screen_size\" for the \"Phone\" class and \"battery_capacity\" for the \"Tablet\" class."
      ],
      "metadata": {
        "id": "XNVvBhMgyYa2"
      }
    },
    {
      "cell_type": "code",
      "source": [
        "# creation of base class Device\n",
        "\n",
        "class Device:\n",
        "  def __init__(self,brand,model):\n",
        "    self.brand=brand\n",
        "    self.model=model\n",
        "\n",
        "# creation of derived Phone class\n",
        "class Phone(Device):\n",
        "  def __init__(self,brand,model,screen_size):\n",
        "    super().__init__(brand,model)\n",
        "    self.screen_size= screen_size\n",
        "\n",
        "  def display_info(self):\n",
        "    return f\"This is my {self.brand} phone of {self.model} having screen size {self.screen_size}\"\n",
        "\n",
        "# creation of derived Tablet class\n",
        "class Tablet(Device):\n",
        "  def __init__(self,brand,model,battery_capacity):\n",
        "    super().__init__(brand,model)\n",
        "    self.battery_capacity=battery_capacity\n",
        "\n",
        "  def display_info(self):\n",
        "    return f\"This is my {self.brand} phone of {self.model} having screen size {self.battery_capacity}\"\n",
        "\n",
        "# Here we create two objects from Phone and Tablet class and calling display_info method class\n",
        "\n",
        "my_phone=Phone('Moto','G32','6inch')\n",
        "my_tablet=Tablet('Samsung','Tab1','8inch')\n",
        "print(my_phone.display_info())\n",
        "print(my_tablet.display_info())"
      ],
      "metadata": {
        "id": "2CDsVU0YydHH",
        "outputId": "d5981f91-a691-45e3-b58b-8453904e3bb2",
        "colab": {
          "base_uri": "https://localhost:8080/"
        }
      },
      "execution_count": 60,
      "outputs": [
        {
          "output_type": "stream",
          "name": "stdout",
          "text": [
            "This is my Moto phone of G32 having screen size 6inch\n",
            "This is my Samsung phone of Tab1 having screen size 8inch\n"
          ]
        }
      ]
    },
    {
      "cell_type": "markdown",
      "source": [
        "10. Create a base class called \"BankAccount\" with attributes like \"account_number\" and\n",
        "\"balance.\" Derive two classes, \"SavingsAccount\" and \"CheckingAccount,\" from\n",
        "\"BankAccount.\" Add specific methods like \"calculate_interest\" for the\n",
        "\"SavingsAccount\" class and \"deduct_fees\" for the \"CheckingAccount\" class."
      ],
      "metadata": {
        "id": "6PlRMH-Vppt6"
      }
    },
    {
      "cell_type": "code",
      "source": [
        "# creation of base class BankAccount\n",
        "\n",
        "class BankAccount:\n",
        "  #class variables which can be changed in future depending on custom need like interest varies based on RBI\n",
        "  interest=0.03\n",
        "  fees=100\n",
        "  def __init__(self,account_number,balance):\n",
        "    self.account_number=account_number\n",
        "    self.balance=balance\n",
        "\n",
        "\n",
        "\n",
        "# creation of class SavingAccount\n",
        "\n",
        "class SavingsAccount(BankAccount):\n",
        "  def calculate_interest(self):\n",
        "    return (f\"Your Saving account will fetch annual interest of {self.balance*SavingsAccount.interest} on your {self.balance} amount\")\n",
        "\n",
        "\n",
        "# creation of class CheckingAccount\n",
        "\n",
        "class CheckingAccount(BankAccount):\n",
        "  def deduct_fees(self):\n",
        "    return (f\"Your Checking account have annual fees of {CheckingAccount.fees}\")\n",
        "\n",
        "\n",
        "\n",
        "# creation of object of Saving account and Checking account class.\n",
        "\n",
        "my_saving=SavingsAccount(123,100)\n",
        "\n",
        "print(my_saving.calculate_interest())\n",
        "\n",
        "my_checking=CheckingAccount(100,10000)\n",
        "print(my_checking.deduct_fees())\n",
        "\n",
        "\n"
      ],
      "metadata": {
        "colab": {
          "base_uri": "https://localhost:8080/"
        },
        "id": "jiHn1FtKpq44",
        "outputId": "4e4859aa-083c-4842-e80e-d5493b93604e"
      },
      "execution_count": 61,
      "outputs": [
        {
          "output_type": "stream",
          "name": "stdout",
          "text": [
            "Your Saving account will fetch annual interest of 3.0 on your 100 amount\n",
            "Your Checking account have annual fees of 100\n"
          ]
        }
      ]
    },
    {
      "cell_type": "markdown",
      "source": [],
      "metadata": {
        "id": "cf6r5pS67uux"
      }
    }
  ]
}