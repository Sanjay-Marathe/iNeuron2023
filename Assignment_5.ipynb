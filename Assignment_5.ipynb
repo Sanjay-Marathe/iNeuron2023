{
 "cells": [
  {
   "cell_type": "code",
   "execution_count": null,
   "id": "d98a48cb",
   "metadata": {},
   "outputs": [],
   "source": [
    "# 1.What does an empty dictionary's code look like?\n",
    "\n",
    "# Ans:it looks like {}"
   ]
  },
  {
   "cell_type": "code",
   "execution_count": null,
   "id": "2be8d65e",
   "metadata": {},
   "outputs": [],
   "source": [
    "#2. What is the value of a dictionary value with the key 'foo'; and the value 42?\n",
    "# Ans:{'foo' : 42}\n"
   ]
  },
  {
   "cell_type": "code",
   "execution_count": null,
   "id": "51480945",
   "metadata": {},
   "outputs": [],
   "source": [
    "#3. What is the most significant distinction between a dictionary and a list?\n",
    "# Ans: In dictionary elements stored were unordered while in list they were in ordered form."
   ]
  },
  {
   "cell_type": "code",
   "execution_count": 5,
   "id": "571b7814",
   "metadata": {},
   "outputs": [
    {
     "ename": "KeyError",
     "evalue": "'foo'",
     "output_type": "error",
     "traceback": [
      "\u001b[1;31m---------------------------------------------------------------------------\u001b[0m",
      "\u001b[1;31mKeyError\u001b[0m                                  Traceback (most recent call last)",
      "Input \u001b[1;32mIn [5]\u001b[0m, in \u001b[0;36m<cell line: 4>\u001b[1;34m()\u001b[0m\n\u001b[0;32m      1\u001b[0m \u001b[38;5;66;03m#4. What happens if you try to access spam['foo'] if spam is {'bar': 100}?\u001b[39;00m\n\u001b[0;32m      2\u001b[0m \u001b[38;5;66;03m#Ans:\u001b[39;00m\n\u001b[0;32m      3\u001b[0m spam\u001b[38;5;241m=\u001b[39m{\u001b[38;5;124m'\u001b[39m\u001b[38;5;124mbar\u001b[39m\u001b[38;5;124m'\u001b[39m: \u001b[38;5;241m100\u001b[39m}\n\u001b[1;32m----> 4\u001b[0m \u001b[43mspam\u001b[49m\u001b[43m[\u001b[49m\u001b[38;5;124;43m'\u001b[39;49m\u001b[38;5;124;43mfoo\u001b[39;49m\u001b[38;5;124;43m'\u001b[39;49m\u001b[43m]\u001b[49m\n",
      "\u001b[1;31mKeyError\u001b[0m: 'foo'"
     ]
    }
   ],
   "source": [
    "#4. What happens if you try to access spam['foo'] if spam is {'bar': 100}?\n",
    "#Ans:\n",
    "spam={'bar': 100}\n",
    "spam['foo']"
   ]
  },
  {
   "cell_type": "code",
   "execution_count": null,
   "id": "409b3e85",
   "metadata": {},
   "outputs": [],
   "source": [
    "#5. If a dictionary is stored in spam, what is the difference between the expressions 'cat'in spam and'cat'in spam.keys()?\n",
    "# Ans:no difference in operator check whether value present in spam or even in keys of dictionary."
   ]
  },
  {
   "cell_type": "code",
   "execution_count": null,
   "id": "a4684127",
   "metadata": {},
   "outputs": [],
   "source": [
    "#6If a dictionary is stored in spam, what is the difference between the expressions 'cat' in spam and 'cat' in spam.values()?\n",
    "#Ans: 'cat' in spam check if 'cat' key present in dictionary.while 'cat' in spam.values() will check value having'cat' as value.\n"
   ]
  },
  {
   "cell_type": "code",
   "execution_count": null,
   "id": "6e1e7379",
   "metadata": {},
   "outputs": [],
   "source": [
    "#7. What is a shortcut for the following code?\n",
    "if 'color' not in spam:\n",
    "spam['color'] ='black'\n",
    "\n",
    "#Ans:spam.setdefault('color', 'black')\n"
   ]
  },
  {
   "cell_type": "code",
   "execution_count": null,
   "id": "cadc14fd",
   "metadata": {},
   "outputs": [],
   "source": [
    "#8. How do you\"pretty print\" dictionary values using which module and function?\n",
    "\n",
    "#Ans: pprint.pprint()"
   ]
  }
 ],
 "metadata": {
  "kernelspec": {
   "display_name": "Python 3 (ipykernel)",
   "language": "python",
   "name": "python3"
  },
  "language_info": {
   "codemirror_mode": {
    "name": "ipython",
    "version": 3
   },
   "file_extension": ".py",
   "mimetype": "text/x-python",
   "name": "python",
   "nbconvert_exporter": "python",
   "pygments_lexer": "ipython3",
   "version": "3.10.9"
  }
 },
 "nbformat": 4,
 "nbformat_minor": 5
}
