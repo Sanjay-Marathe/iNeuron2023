{
  "nbformat": 4,
  "nbformat_minor": 0,
  "metadata": {
    "colab": {
      "provenance": [],
      "authorship_tag": "ABX9TyPeCyBOpPb/xDRtk5uJ4V2S"
    },
    "kernelspec": {
      "name": "python3",
      "display_name": "Python 3"
    },
    "language_info": {
      "name": "python"
    }
  },
  "cells": [
    {
      "cell_type": "markdown",
      "source": [
        "# 1. What is the role of try and exception block?\n",
        "\n",
        "Answer >\n",
        "\n",
        ">The primary role of the try-except block is to prevent the program from crashing abruptly when an error occurs and to provide a way to gracefully handle those errors.\n",
        "\n",
        "\n",
        ">Try Block :\n",
        ">>The code that might potentially raise an exception is placed inside the \"try\" block. This is the section of code where the program attempts to execute a set of statements that could potentially cause an error.\n",
        "\n",
        ">Exception Block :\n",
        ">>The \"except\" block follows the \"try\" block. If an exception (error) occurs within the \"try\" block, the program flow immediately jumps to the corresponding \"except\" block. This block contains the code that handles the exception. It allows you to specify what actions or fallback measures should be taken when an exception occurs.\n"
      ],
      "metadata": {
        "id": "JDxCN_yY64fg"
      }
    },
    {
      "cell_type": "markdown",
      "source": [
        "# 2. What is the syntax for a basic try-except block?\n",
        "\n",
        "Answer >\n"
      ],
      "metadata": {
        "id": "7l2PM4AP-6EB"
      }
    },
    {
      "cell_type": "code",
      "source": [
        "try:\n",
        "    num = int(input(\"Enter a number: \"))\n",
        "    result = 10 / num\n",
        "except ValueError:\n",
        "    print(\"Invalid input. Please enter a valid integer.\")\n",
        "except ZeroDivisionError:\n",
        "    print(\"Error: Cannot divide by zero.\")\n",
        "except Exception as e:\n",
        "    print(\"An unexpected error occurred:\", e)\n"
      ],
      "metadata": {
        "colab": {
          "base_uri": "https://localhost:8080/"
        },
        "id": "zs5e5iOXf41y",
        "outputId": "87de4c72-e350-4a35-8675-a2f110572fb8"
      },
      "execution_count": null,
      "outputs": [
        {
          "name": "stdout",
          "output_type": "stream",
          "text": [
            "Enter a number: 5\n"
          ]
        }
      ]
    },
    {
      "cell_type": "markdown",
      "source": [
        "# 3. What happens if an exception occurs inside a try block and there is no matching except block?\n",
        "\n",
        "Answer >\n",
        "\n",
        ">If an exception occurs inside a try block and there is no matching except block to handle that specific type of exception, the program will terminate abruptly, and an error message will be displayed. This is known as an \"unhandled exception.\""
      ],
      "metadata": {
        "id": "4B55YPoH-_EM"
      }
    },
    {
      "cell_type": "code",
      "execution_count": null,
      "metadata": {
        "id": "pLIs46YY6ol3",
        "colab": {
          "base_uri": "https://localhost:8080/",
          "height": 217
        },
        "outputId": "5595c7c6-3352-45ce-c2bc-a41c38738e48"
      },
      "outputs": [
        {
          "output_type": "error",
          "ename": "ZeroDivisionError",
          "evalue": "ignored",
          "traceback": [
            "\u001b[0;31m---------------------------------------------------------------------------\u001b[0m",
            "\u001b[0;31mZeroDivisionError\u001b[0m                         Traceback (most recent call last)",
            "\u001b[0;32m<ipython-input-5-2b5a0127d461>\u001b[0m in \u001b[0;36m<cell line: 1>\u001b[0;34m()\u001b[0m\n\u001b[1;32m      1\u001b[0m \u001b[0;32mtry\u001b[0m\u001b[0;34m:\u001b[0m\u001b[0;34m\u001b[0m\u001b[0;34m\u001b[0m\u001b[0m\n\u001b[0;32m----> 2\u001b[0;31m     \u001b[0mresult\u001b[0m \u001b[0;34m=\u001b[0m \u001b[0;36m10\u001b[0m \u001b[0;34m/\u001b[0m \u001b[0;36m0\u001b[0m  \u001b[0;31m# This will raise a ZeroDivisionError\u001b[0m\u001b[0;34m\u001b[0m\u001b[0;34m\u001b[0m\u001b[0m\n\u001b[0m\u001b[1;32m      3\u001b[0m \u001b[0;32mexcept\u001b[0m \u001b[0mValueError\u001b[0m\u001b[0;34m:\u001b[0m\u001b[0;34m\u001b[0m\u001b[0;34m\u001b[0m\u001b[0m\n\u001b[1;32m      4\u001b[0m     \u001b[0mprint\u001b[0m\u001b[0;34m(\u001b[0m\u001b[0;34m\"This won't be executed because it's not a ValueError.\"\u001b[0m\u001b[0;34m)\u001b[0m\u001b[0;34m\u001b[0m\u001b[0;34m\u001b[0m\u001b[0m\n",
            "\u001b[0;31mZeroDivisionError\u001b[0m: division by zero"
          ]
        }
      ],
      "source": [
        "try:\n",
        "    result = 10 / 0  # This will raise a ZeroDivisionError\n",
        "except ValueError:\n",
        "    print(\"This won't be executed because it's not a ValueError.\")\n",
        "\n",
        "# o/p : ZeroDivisionError: division by zero\n",
        "\n"
      ]
    },
    {
      "cell_type": "markdown",
      "source": [
        "# 4. What is the difference between using a bare except block and specifying a specific exception type?\n",
        "\n",
        "Answer >\n",
        "\n",
        ">A bare except block catches any exception that occurs within the try block, regardless of its type.\n",
        "\n",
        ">Whereas specific except block cathes the specific exception.  "
      ],
      "metadata": {
        "id": "UZVlLzDN_ISp"
      }
    },
    {
      "cell_type": "markdown",
      "source": [
        "# 5. Can you have nested try-except blocks in Python? If yes, then give an example.\n",
        "\n",
        "Answer >\n"
      ],
      "metadata": {
        "id": "u75mcbpB632X"
      }
    },
    {
      "cell_type": "code",
      "source": [
        "def divide_numbers(a, b):\n",
        "    try:\n",
        "        result = a / b\n",
        "    except ZeroDivisionError:\n",
        "        print(\"Error: Cannot divide by zero.\")\n",
        "        result = float('inf')  # Assigning a default value when division by zero occurs\n",
        "    return result\n",
        "\n",
        "try:\n",
        "    input_data = input(\"Enter two numbers separated by space: \")\n",
        "    num_list = input_data.split()\n",
        "    try:\n",
        "        num1 = int(num_list[0])\n",
        "        num2 = int(num_list[1])\n",
        "        result = divide_numbers(num1, num2)\n",
        "        print(\"Result:\", result)\n",
        "    except ValueError:\n",
        "        print(\"Invalid input. Please enter valid integers.\")\n",
        "except Exception as e:\n",
        "    print(\"An unexpected error occurred:\", e)\n"
      ],
      "metadata": {
        "id": "vCT3J6FTljAs"
      },
      "execution_count": null,
      "outputs": []
    },
    {
      "cell_type": "markdown",
      "source": [
        "# 6. Can we use multiple exception blocks, if yes then give an example.\n",
        "\n",
        "Answer >\n",
        "\n",
        ">Yes, we can use."
      ],
      "metadata": {
        "id": "XOHkBz_0_ULk"
      }
    },
    {
      "cell_type": "code",
      "source": [
        "try:\n",
        "    num = int(input(\"Enter a number: \"))\n",
        "    result = 10 / num\n",
        "except ValueError:\n",
        "    print(\"Invalid input. Please enter a valid integer.\")\n",
        "except ZeroDivisionError:\n",
        "    print(\"Error: Cannot divide by zero.\")\n",
        "except Exception as e:\n",
        "    print(\"An unexpected error occurred:\", e)"
      ],
      "metadata": {
        "id": "XJlvh7c5mf7T"
      },
      "execution_count": null,
      "outputs": []
    },
    {
      "cell_type": "markdown",
      "source": [
        "# 7. Write the reason due to which following errors are raised:\n",
        "a. EOFError\n",
        "\n",
        "b. FloatingPointError\n",
        "\n",
        "c. IndexError\n",
        "\n",
        "d. MemoryError\n",
        "\n",
        "e. OverflowError\n",
        "\n",
        "f. TabError\n",
        "\n",
        "g. ValueError\n",
        "\n",
        "Answer >\n",
        "\n",
        ">a. EOFError :\n",
        ">>This error is raised when the input() function hits an end-of-file condition without receiving any input. It typically occurs when the input stream is closed or ends unexpectedly while the input() function is waiting for user input.\n",
        "\n",
        ">b. FloatingPointError :\n",
        ">>This error is raised when a floating-point operation cannot be performed due to some exceptional condition, such as division by zero or an overflow/underflow during the calculation.\n",
        "\n",
        ">c. IndexError :\n",
        ">>This error is raised when you try to access an index of a sequence (e.g., a list, tuple, or string) that is outside the valid range of indices. It usually occurs when you try to access an element at an index that is either negative or greater than or equal to the length of the sequence.\n",
        "\n",
        ">d. MemoryError :\n",
        ">>This error is raised when the program runs out of available memory (RAM) while trying to allocate more memory, either due to an excessive memory request or when the system's memory resources are exhausted.\n",
        "\n",
        ">e. OverflowError :\n",
        ">>This error is raised when a numeric calculation exceeds the maximum representable value for a numeric type. It usually happens with integer calculations when the result is too large to be represented within the available numeric type.\n",
        "\n",
        ">f. TabError :\n",
        ">>This error is raised when there is an issue with indentation in the Python code, specifically related to the use of tabs and spaces. It typically occurs when the code mixes tabs and spaces inconsistently, leading to indentation errors.\n",
        "\n",
        ">g. ValueError :\n",
        ">>This error is raised when a built-in operation or function receives an argument of the correct data type but with an inappropriate value. For example, trying to convert a string to an integer when the string does not represent a valid integer would raise a ValueError."
      ],
      "metadata": {
        "id": "3AvXuW54_b9x"
      }
    },
    {
      "cell_type": "markdown",
      "source": [
        "# 8. Write code for the following given scenario and add try-exception block to it.\n",
        "a. Program to divide two numbers\n",
        "\n",
        "b. Program to convert a string to an integer\n",
        "\n",
        "c. Program to access an element in a list\n",
        "\n",
        "d. Program to handle a specific exception\n",
        "\n",
        "e. Program to handle any exception\n",
        "\n",
        "Answer >\n",
        "\n",
        "a. Program to divide two numbers"
      ],
      "metadata": {
        "id": "nLfzsIjR_qi-"
      }
    },
    {
      "cell_type": "code",
      "source": [
        "def divide_numbers(a, b):\n",
        "    try:\n",
        "        result = a / b\n",
        "        return result\n",
        "    except ZeroDivisionError:\n",
        "        return \"Error: Cannot divide by zero.\"\n",
        "\n",
        "num1 = float(input(\"Enter the first number: \"))\n",
        "num2 = float(input(\"Enter the second number: \"))\n",
        "\n",
        "result = divide_numbers(num1, num2)\n",
        "print(\"Result:\", result)\n"
      ],
      "metadata": {
        "colab": {
          "base_uri": "https://localhost:8080/"
        },
        "id": "r2WWF89tn_2G",
        "outputId": "8d2e73e5-9e2b-4398-9305-5eabafc367a9"
      },
      "execution_count": null,
      "outputs": [
        {
          "output_type": "stream",
          "name": "stdout",
          "text": [
            "Enter the first number: 12\n",
            "Enter the second number: 2\n",
            "Result: 6.0\n"
          ]
        }
      ]
    },
    {
      "cell_type": "markdown",
      "source": [
        ">b. Program to convert a string to an integer"
      ],
      "metadata": {
        "id": "imZdo8UYpQHS"
      }
    },
    {
      "cell_type": "code",
      "source": [
        "def convert_to_integer(s):\n",
        "    try:\n",
        "        integer_value = int(s)\n",
        "        return integer_value\n",
        "    except ValueError:\n",
        "        print(\"Error: Invalid input.please Enter integer.\")\n",
        "        return None\n",
        "\n",
        "user_input = input(\"Enter a number: \")\n",
        "result = convert_to_integer(user_input)\n",
        "if result is not None:\n",
        "    print(\"Integer Value:\", result)\n"
      ],
      "metadata": {
        "colab": {
          "base_uri": "https://localhost:8080/"
        },
        "id": "eDhNr-qvoDi5",
        "outputId": "1d32ebdf-afdd-48b5-e1f6-f4327bee27a1"
      },
      "execution_count": null,
      "outputs": [
        {
          "output_type": "stream",
          "name": "stdout",
          "text": [
            "Enter a number: 0\n",
            "Integer Value: 0\n"
          ]
        }
      ]
    },
    {
      "cell_type": "markdown",
      "source": [
        ">c. Program to access an element in a list"
      ],
      "metadata": {
        "id": "22sc7y_kGmvj"
      }
    },
    {
      "cell_type": "code",
      "source": [
        "def access_list_element(lst, index):\n",
        "    try:\n",
        "        value = lst[index]\n",
        "        return value\n",
        "    except IndexError:\n",
        "        print(\"Error: Index is out of range. The list does not have the specified index.\")\n",
        "        return None\n",
        "\n",
        "my_list = [10, 20, 30, 40, 50]\n",
        "index_to_access = int(input(\"Enter an index to access from the list: \"))\n",
        "\n",
        "result = access_list_element(my_list, index_to_access)\n",
        "if result is not None:\n",
        "    print(\"Value at index {}:\".format(index_to_access), result)\n"
      ],
      "metadata": {
        "colab": {
          "base_uri": "https://localhost:8080/"
        },
        "id": "GBMjJJ4DGYkQ",
        "outputId": "03dc409d-a02f-441f-b4e6-6386ea19ee52"
      },
      "execution_count": null,
      "outputs": [
        {
          "output_type": "stream",
          "name": "stdout",
          "text": [
            "Enter an index to access from the list: 3\n",
            "Value at index 3: 40\n"
          ]
        }
      ]
    },
    {
      "cell_type": "markdown",
      "source": [
        ">d. Program to handle a specific exception :"
      ],
      "metadata": {
        "id": "9JhcFNsNHHzS"
      }
    },
    {
      "cell_type": "code",
      "source": [
        "def calculate_division(a, b):\n",
        "    try:\n",
        "        result = a / b\n",
        "        return result\n",
        "    except ZeroDivisionError:\n",
        "        print(\"Error: Cannot divide by zero.\")\n",
        "        return None\n",
        "\n",
        "num1 = float(input(\"Enter the first number: \"))\n",
        "num2 = float(input(\"Enter the second number: \"))\n",
        "\n",
        "result = calculate_division(num1, num2)\n",
        "if result is not None:\n",
        "    print(\"Result:\", result)\n"
      ],
      "metadata": {
        "id": "1gPFqlM9HHg9"
      },
      "execution_count": null,
      "outputs": []
    },
    {
      "cell_type": "markdown",
      "source": [
        ">e. Program to handle any exception :\n"
      ],
      "metadata": {
        "id": "bQvyuTxWHfJp"
      }
    },
    {
      "cell_type": "code",
      "source": [
        "def perform_computation(num1, num2):\n",
        "    try:\n",
        "        result = num1 / num2\n",
        "        return result\n",
        "    except Exception as e:\n",
        "        print(\"An unexpected error occurred:\", e)\n",
        "        return None\n",
        "\n",
        "num1 = float(input(\"Enter the first number: \"))\n",
        "num2 = float(input(\"Enter the second number: \"))\n",
        "\n",
        "result = perform_computation(num1, num2)\n",
        "if result is not None:\n",
        "    print(\"Result:\", result)\n"
      ],
      "metadata": {
        "id": "8VGRhTW6Gvef"
      },
      "execution_count": null,
      "outputs": []
    }
  ]
}