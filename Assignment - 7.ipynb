{
 "cells": [
  {
   "cell_type": "markdown",
   "id": "c083cbb7",
   "metadata": {},
   "source": [
    "# # Q.1. Create two int type variables, apply addition, subtraction, division and multiplications and store the results in variables. Then print the data in the following format by calling the variables:\n",
    "First variable is __ & second variable is __.\n",
    "Addition: __ + __ = __\n",
    "Subtraction: __ - __ = __\n",
    "Multiplication: __ * __ = __\n",
    "Division: __ / __ = __"
   ]
  },
  {
   "cell_type": "code",
   "execution_count": 10,
   "id": "75eb27d6",
   "metadata": {},
   "outputs": [
    {
     "name": "stdout",
     "output_type": "stream",
     "text": [
      "First variable is 10 & second variable is 2 .\n",
      "Addition: 10 + 2 = 12\n",
      "Subtraction: 10 - 2 = 8\n",
      "Multiplication: 10 * 2 = 20\n",
      "Division: 10 / 2 = 5.0\n"
     ]
    }
   ],
   "source": [
    "# declare first and second int variable\n",
    "first_var=10\n",
    "second_var=2\n",
    "\n",
    "# addition of variables\n",
    "Addition=first_var+second_var\n",
    "\n",
    "# Subtraction of variable\n",
    "Subtraction=first_var-second_var\n",
    "\n",
    "#Multiplication of two variables\n",
    "Multiplication=first_var*second_var\n",
    "\n",
    "#Division of two variables\n",
    "Division=first_var/second_var\n",
    "\n",
    "print(\"First variable is\",first_var,\"&\",\"second variable is\",second_var,'.')\n",
    "print(\"Addition:\",first_var,\"+\",second_var,'=',Addition)\n",
    "print(\"Subtraction:\",first_var,\"-\",second_var,'=',Subtraction)\n",
    "print(\"Multiplication:\",first_var,\"*\",second_var,'=',Multiplication)\n",
    "print(\"Division:\",first_var,\"/\",second_var,'=',Division)\n",
    "\n",
    "\n"
   ]
  },
  {
   "cell_type": "markdown",
   "id": "6c5356ae",
   "metadata": {},
   "source": [
    "# Q.2. What is the difference between the following operators:\n",
    "(i) ‘/’ & ‘//’\n",
    "(ii) ‘**’ & ‘^’"
   ]
  },
  {
   "cell_type": "code",
   "execution_count": 15,
   "id": "cf62d3e5",
   "metadata": {},
   "outputs": [
    {
     "data": {
      "text/plain": [
       "3.0"
      ]
     },
     "execution_count": 15,
     "metadata": {},
     "output_type": "execute_result"
    }
   ],
   "source": [
    "# '/'is Division operator\n",
    "\n",
    "a=15\n",
    "b=5\n",
    "a/b"
   ]
  },
  {
   "cell_type": "code",
   "execution_count": 17,
   "id": "c911f62a",
   "metadata": {},
   "outputs": [
    {
     "data": {
      "text/plain": [
       "2"
      ]
     },
     "execution_count": 17,
     "metadata": {},
     "output_type": "execute_result"
    }
   ],
   "source": [
    "# ‘//’ is floor division \n",
    "a=8\n",
    "b=3\n",
    "a//b"
   ]
  },
  {
   "cell_type": "code",
   "execution_count": 18,
   "id": "dda64090",
   "metadata": {},
   "outputs": [
    {
     "data": {
      "text/plain": [
       "81"
      ]
     },
     "execution_count": 18,
     "metadata": {},
     "output_type": "execute_result"
    }
   ],
   "source": [
    "# ‘**’ Exponentiation operator\n",
    "\n",
    "a=3\n",
    "b=4\n",
    "a**b"
   ]
  },
  {
   "cell_type": "code",
   "execution_count": 21,
   "id": "7670185c",
   "metadata": {},
   "outputs": [
    {
     "data": {
      "text/plain": [
       "6"
      ]
     },
     "execution_count": 21,
     "metadata": {},
     "output_type": "execute_result"
    }
   ],
   "source": [
    "# ‘^’ XOR operator\n",
    "\n",
    "\n",
    "a=5\n",
    "b=3\n",
    "a^b"
   ]
  },
  {
   "cell_type": "markdown",
   "id": "29b15ca8",
   "metadata": {},
   "source": [
    "# Q.3. List the logical operators.\n",
    "Ans: In python logical operator are and , or , not \n",
    "\n",
    "\n"
   ]
  },
  {
   "cell_type": "markdown",
   "id": "b05a15f1",
   "metadata": {},
   "source": [
    "# Q.4. Explain right shift operator and left shift operator with examples."
   ]
  },
  {
   "cell_type": "markdown",
   "id": "96f71a3c",
   "metadata": {},
   "source": [
    "# Ans:\n",
    "The bitwise left shift operator (<<) moves the bits of its first operand to the left by the number of places specified in its second operand\n",
    "\n"
   ]
  },
  {
   "cell_type": "code",
   "execution_count": 7,
   "id": "e1c9f02e",
   "metadata": {},
   "outputs": [
    {
     "data": {
      "text/plain": [
       "78"
      ]
     },
     "execution_count": 7,
     "metadata": {},
     "output_type": "execute_result"
    }
   ],
   "source": [
    "a=39\n",
    "a<<1\n"
   ]
  },
  {
   "cell_type": "code",
   "execution_count": 9,
   "id": "7582ab7a",
   "metadata": {},
   "outputs": [
    {
     "data": {
      "text/plain": [
       "78"
      ]
     },
     "execution_count": 9,
     "metadata": {},
     "output_type": "execute_result"
    }
   ],
   "source": [
    "#The bitwise right shift operator (>>) is analogous to the left one, but instead of moving bits to the left, it pushes them to the right by the specified number of places. The rightmost bits always get dropped:\n",
    "\n",
    "b=157\n",
    "b>>1\n"
   ]
  },
  {
   "cell_type": "markdown",
   "id": "ba61767c",
   "metadata": {},
   "source": [
    "# Q.5. Create a list containing int type data of length 15. Then write a code to check if 10 is present in the list or not."
   ]
  },
  {
   "cell_type": "code",
   "execution_count": 22,
   "id": "9de47790",
   "metadata": {},
   "outputs": [
    {
     "data": {
      "text/plain": [
       "True"
      ]
     },
     "execution_count": 22,
     "metadata": {},
     "output_type": "execute_result"
    }
   ],
   "source": [
    "ls=[1,2,3,4,5,6,7,8,9,10,11,12,13,14,15]\n",
    "10 in ls"
   ]
  },
  {
   "cell_type": "code",
   "execution_count": 23,
   "id": "230ffda9",
   "metadata": {},
   "outputs": [
    {
     "name": "stdout",
     "output_type": "stream",
     "text": [
      "Number 10 Present in ls\n"
     ]
    }
   ],
   "source": [
    "for i in ls:\n",
    "    if i==10:\n",
    "        print(\"Number 10 Present in ls\")"
   ]
  }
 ],
 "metadata": {
  "kernelspec": {
   "display_name": "Python 3 (ipykernel)",
   "language": "python",
   "name": "python3"
  },
  "language_info": {
   "codemirror_mode": {
    "name": "ipython",
    "version": 3
   },
   "file_extension": ".py",
   "mimetype": "text/x-python",
   "name": "python",
   "nbconvert_exporter": "python",
   "pygments_lexer": "ipython3",
   "version": "3.10.9"
  }
 },
 "nbformat": 4,
 "nbformat_minor": 5
}
